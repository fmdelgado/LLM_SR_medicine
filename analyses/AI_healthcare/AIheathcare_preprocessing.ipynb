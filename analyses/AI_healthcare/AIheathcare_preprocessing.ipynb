{
 "cells": [
  {
   "cell_type": "code",
   "execution_count": 13,
   "id": "initial_id",
   "metadata": {
    "collapsed": true,
    "jupyter": {
     "outputs_hidden": true
    },
    "ExecuteTime": {
     "end_time": "2024-09-30T14:25:20.012386Z",
     "start_time": "2024-09-30T14:25:19.865026Z"
    }
   },
   "outputs": [
    {
     "name": "stdout",
     "output_type": "stream",
     "text": [
      "screening1  screening2\n",
      "True        False         39\n",
      "False       False         21\n",
      "True        True           6\n",
      "Name: count, dtype: int64\n"
     ]
    },
    {
     "data": {
      "text/plain": "                                              Authors  \\\n0   1: Chen PJ, Lin MC, Lai MJ, Lin JC, Lu HH, Tse...   \n1   2: Willem L, Stijven S, Vladislavleva E, Broec...   \n2                        3: Lillehaug SI, Lajoie SP.    \n3   4: Lee HK, Jin RC, Yuan F, Bain PA, Goffinet J...   \n4   5: Li X, Jia W, Yang Z, Li Y, Yuan D, Zhang H,...   \n..                                                ...   \n61  8: Jelovsek JE, Chagin K, Gyhagen M, Hagen S, ...   \n62  9: Shahinfar S, Page D, Guenther J, Cabrera V,...   \n63  1: Lee I, Monahan S, Serban N, Griffin PM, Tom...   \n64  2: Brady ES, Leider JP, Resnick BA, Alfonso YN...   \n65  3: Golas SB, Shibahara T, Agboola S, Otaki H, ...   \n\n                                                Title  \\\n0   Accurate Classification of Diminutive Colorect...   \n1   Active learning to understand infectious disea...   \n2   AI in medical education--another grand challen...   \n3   An Analytical Framework for TJR Readmission Pr...   \n4    Application of Intelligent Recommendation Tec...   \n..                                                ...   \n61  Predicting risk of pelvic floor disorders 12 a...   \n62  Prediction of insemination outcomes in Holstei...   \n63  Estimating the Cost Savings of Preventive Dent...   \n64  Machine-Learning Algorithms to Code Public Hea...   \n65  A machine learning model to predict the risk o...   \n\n                                              Details  PUBMEDID  \\\n0   2018 Feb;154(3):568-575. doi: 10.1053/j.gastro...  29042219   \n1   PLoS Comput Biol. 2014 Apr 17;10(4):e1003563. ...  24743387   \n2    Artif Intell Med. 1998 Mar;12(3):197-225. Rev...   9626957   \n3   Biomed Health Inform. 2018 Jul 25. doi: 10.110...  30047916   \n4   Front Psychiatry. 2018 Sep 4;9:415. doi: 10.33...  30233432   \n..                                                ...       ...   \n61  Am J Obstet Gynecol. 2018 Feb;218(2):222.e1-22...  29056536   \n62   J Dairy Sci. 2014 Feb;97(2):731-42. doi: 10.3...  24290820   \n63  Health Serv Res. 2018 Oct;53(5):3592-3616. doi...  29194610   \n64  Public Health Rep. 2017 May/Jun;132(3):350-356...  28363034   \n65  BMC Med Inform Decis Mak. 2018 Jun 22;18(1):44...  29929496   \n\n   A comprehensive description of an AI functionality   \\\n0                                                 NaN    \n1                                                 NaN    \n2                                                 NaN    \n3                                                   X    \n4                                                 NaN    \n..                                                ...    \n61                                                NaN    \n62                                                NaN    \n63                                                  X    \n64                                                NaN    \n65                                                NaN    \n\n   An evaluation of the economic efficiency and outcomes  \\\n0                                                 NaN      \n1                                                 NaN      \n2                                                 NaN      \n3                                                   X      \n4                                                 NaN      \n..                                                ...      \n61                                                NaN      \n62                                                NaN      \n63                                                  x      \n64                                                NaN      \n65                                                NaN      \n\n   Quantitative outcomes in at least one healthcare system.   \\\n0                                                 NaN          \n1                                                 NaN          \n2                                                 NaN          \n3                                                   X          \n4                                                 NaN          \n..                                                ...          \n61                                                NaN          \n62                                                NaN          \n63                                                  X          \n64                                                NaN          \n65                                                NaN          \n\n   The title did not cover a topic related to AI in healthcare  \\\n0                                                 NaN            \n1                                                 NaN            \n2                                                 NaN            \n3                                                 NaN            \n4                                                   X            \n..                                                ...            \n61                                                  X            \n62                                                  X            \n63                                                NaN            \n64                                                NaN            \n65                                                NaN            \n\n   The abstract did not contain a description of an AI in healthcare application  \\\n0                                                 NaN                              \n1                                                 NaN                              \n2                                                 NaN                              \n3                                                 NaN                              \n4                                                 NaN                              \n..                                                ...                              \n61                                                NaN                              \n62                                                NaN                              \n63                                                NaN                              \n64                                                NaN                              \n65                                                NaN                              \n\n   The abstract or full text did not elaborate on the quantitative economic outcome in one healthcare system.  \\\n0                                                   X                                                           \n1                                                   X                                                           \n2                                                   X                                                           \n3                                                 NaN                                                           \n4                                                 NaN                                                           \n..                                                ...                                                           \n61                                                NaN                                                           \n62                                                NaN                                                           \n63                                                NaN                                                           \n64                                                  X                                                           \n65                                                  X                                                           \n\n    screening1  screening2  \n0         True       False  \n1         True       False  \n2         True       False  \n3         True        True  \n4        False       False  \n..         ...         ...  \n61       False       False  \n62       False       False  \n63        True        True  \n64        True       False  \n65        True        True  \n\n[66 rows x 12 columns]",
      "text/html": "<div>\n<style scoped>\n    .dataframe tbody tr th:only-of-type {\n        vertical-align: middle;\n    }\n\n    .dataframe tbody tr th {\n        vertical-align: top;\n    }\n\n    .dataframe thead th {\n        text-align: right;\n    }\n</style>\n<table border=\"1\" class=\"dataframe\">\n  <thead>\n    <tr style=\"text-align: right;\">\n      <th></th>\n      <th>Authors</th>\n      <th>Title</th>\n      <th>Details</th>\n      <th>PUBMEDID</th>\n      <th>A comprehensive description of an AI functionality</th>\n      <th>An evaluation of the economic efficiency and outcomes</th>\n      <th>Quantitative outcomes in at least one healthcare system.</th>\n      <th>The title did not cover a topic related to AI in healthcare</th>\n      <th>The abstract did not contain a description of an AI in healthcare application</th>\n      <th>The abstract or full text did not elaborate on the quantitative economic outcome in one healthcare system.</th>\n      <th>screening1</th>\n      <th>screening2</th>\n    </tr>\n  </thead>\n  <tbody>\n    <tr>\n      <th>0</th>\n      <td>1: Chen PJ, Lin MC, Lai MJ, Lin JC, Lu HH, Tse...</td>\n      <td>Accurate Classification of Diminutive Colorect...</td>\n      <td>2018 Feb;154(3):568-575. doi: 10.1053/j.gastro...</td>\n      <td>29042219</td>\n      <td>NaN</td>\n      <td>NaN</td>\n      <td>NaN</td>\n      <td>NaN</td>\n      <td>NaN</td>\n      <td>X</td>\n      <td>True</td>\n      <td>False</td>\n    </tr>\n    <tr>\n      <th>1</th>\n      <td>2: Willem L, Stijven S, Vladislavleva E, Broec...</td>\n      <td>Active learning to understand infectious disea...</td>\n      <td>PLoS Comput Biol. 2014 Apr 17;10(4):e1003563. ...</td>\n      <td>24743387</td>\n      <td>NaN</td>\n      <td>NaN</td>\n      <td>NaN</td>\n      <td>NaN</td>\n      <td>NaN</td>\n      <td>X</td>\n      <td>True</td>\n      <td>False</td>\n    </tr>\n    <tr>\n      <th>2</th>\n      <td>3: Lillehaug SI, Lajoie SP.</td>\n      <td>AI in medical education--another grand challen...</td>\n      <td>Artif Intell Med. 1998 Mar;12(3):197-225. Rev...</td>\n      <td>9626957</td>\n      <td>NaN</td>\n      <td>NaN</td>\n      <td>NaN</td>\n      <td>NaN</td>\n      <td>NaN</td>\n      <td>X</td>\n      <td>True</td>\n      <td>False</td>\n    </tr>\n    <tr>\n      <th>3</th>\n      <td>4: Lee HK, Jin RC, Yuan F, Bain PA, Goffinet J...</td>\n      <td>An Analytical Framework for TJR Readmission Pr...</td>\n      <td>Biomed Health Inform. 2018 Jul 25. doi: 10.110...</td>\n      <td>30047916</td>\n      <td>X</td>\n      <td>X</td>\n      <td>X</td>\n      <td>NaN</td>\n      <td>NaN</td>\n      <td>NaN</td>\n      <td>True</td>\n      <td>True</td>\n    </tr>\n    <tr>\n      <th>4</th>\n      <td>5: Li X, Jia W, Yang Z, Li Y, Yuan D, Zhang H,...</td>\n      <td>Application of Intelligent Recommendation Tec...</td>\n      <td>Front Psychiatry. 2018 Sep 4;9:415. doi: 10.33...</td>\n      <td>30233432</td>\n      <td>NaN</td>\n      <td>NaN</td>\n      <td>NaN</td>\n      <td>X</td>\n      <td>NaN</td>\n      <td>NaN</td>\n      <td>False</td>\n      <td>False</td>\n    </tr>\n    <tr>\n      <th>...</th>\n      <td>...</td>\n      <td>...</td>\n      <td>...</td>\n      <td>...</td>\n      <td>...</td>\n      <td>...</td>\n      <td>...</td>\n      <td>...</td>\n      <td>...</td>\n      <td>...</td>\n      <td>...</td>\n      <td>...</td>\n    </tr>\n    <tr>\n      <th>61</th>\n      <td>8: Jelovsek JE, Chagin K, Gyhagen M, Hagen S, ...</td>\n      <td>Predicting risk of pelvic floor disorders 12 a...</td>\n      <td>Am J Obstet Gynecol. 2018 Feb;218(2):222.e1-22...</td>\n      <td>29056536</td>\n      <td>NaN</td>\n      <td>NaN</td>\n      <td>NaN</td>\n      <td>X</td>\n      <td>NaN</td>\n      <td>NaN</td>\n      <td>False</td>\n      <td>False</td>\n    </tr>\n    <tr>\n      <th>62</th>\n      <td>9: Shahinfar S, Page D, Guenther J, Cabrera V,...</td>\n      <td>Prediction of insemination outcomes in Holstei...</td>\n      <td>J Dairy Sci. 2014 Feb;97(2):731-42. doi: 10.3...</td>\n      <td>24290820</td>\n      <td>NaN</td>\n      <td>NaN</td>\n      <td>NaN</td>\n      <td>X</td>\n      <td>NaN</td>\n      <td>NaN</td>\n      <td>False</td>\n      <td>False</td>\n    </tr>\n    <tr>\n      <th>63</th>\n      <td>1: Lee I, Monahan S, Serban N, Griffin PM, Tom...</td>\n      <td>Estimating the Cost Savings of Preventive Dent...</td>\n      <td>Health Serv Res. 2018 Oct;53(5):3592-3616. doi...</td>\n      <td>29194610</td>\n      <td>X</td>\n      <td>x</td>\n      <td>X</td>\n      <td>NaN</td>\n      <td>NaN</td>\n      <td>NaN</td>\n      <td>True</td>\n      <td>True</td>\n    </tr>\n    <tr>\n      <th>64</th>\n      <td>2: Brady ES, Leider JP, Resnick BA, Alfonso YN...</td>\n      <td>Machine-Learning Algorithms to Code Public Hea...</td>\n      <td>Public Health Rep. 2017 May/Jun;132(3):350-356...</td>\n      <td>28363034</td>\n      <td>NaN</td>\n      <td>NaN</td>\n      <td>NaN</td>\n      <td>NaN</td>\n      <td>NaN</td>\n      <td>X</td>\n      <td>True</td>\n      <td>False</td>\n    </tr>\n    <tr>\n      <th>65</th>\n      <td>3: Golas SB, Shibahara T, Agboola S, Otaki H, ...</td>\n      <td>A machine learning model to predict the risk o...</td>\n      <td>BMC Med Inform Decis Mak. 2018 Jun 22;18(1):44...</td>\n      <td>29929496</td>\n      <td>NaN</td>\n      <td>NaN</td>\n      <td>NaN</td>\n      <td>NaN</td>\n      <td>NaN</td>\n      <td>X</td>\n      <td>True</td>\n      <td>True</td>\n    </tr>\n  </tbody>\n</table>\n<p>66 rows × 12 columns</p>\n</div>"
     },
     "execution_count": 13,
     "metadata": {},
     "output_type": "execute_result"
    }
   ],
   "source": [
    "import pandas as pd\n",
    "workdir = '/Users/fernando/Documents/Research/LLM_SR_medicine/analyses/AI_healthcare/'\n",
    "df = pd.read_excel(f'{workdir}original_data/240503_PubMed_preprocessed.xlsx', sheet_name='preprocessed')\n",
    "\n",
    "# We replace nan by zero for the boolean columns\n",
    "boolean_columns = ['screening1', 'screening2']\n",
    "df[boolean_columns] = df[boolean_columns].fillna(0)\n",
    "df[boolean_columns] = df[boolean_columns].astype(bool)\n",
    "print(df[['screening1','screening2']].value_counts())\n",
    "df\n"
   ]
  },
  {
   "cell_type": "code",
   "execution_count": 14,
   "id": "4b3d2e12cb2d305f",
   "metadata": {
    "collapsed": false,
    "ExecuteTime": {
     "end_time": "2024-09-30T14:25:21.397093Z",
     "start_time": "2024-09-30T14:25:20.012214Z"
    }
   },
   "outputs": [],
   "source": [
    "from Bio import Entrez\n",
    "\n",
    "# Always provide your email\n",
    "Entrez.email = \"fernando.miguel.delgado-chaves@uni-hamburg.de\"\n",
    "\n",
    "def fetch_details(pubmed_ids):\n",
    "    ids = ','.join(pubmed_ids)\n",
    "    handle = Entrez.efetch(db=\"pubmed\", id=ids, retmode=\"xml\")\n",
    "    records = Entrez.read(handle)\n",
    "    titles = []\n",
    "    abstracts = []\n",
    "    \n",
    "    for record in records['PubmedArticle']:\n",
    "        # Extract the title\n",
    "        title = record['MedlineCitation']['Article']['ArticleTitle']\n",
    "        # Extract the full abstract, concatenating all parts\n",
    "        abstract_parts = record['MedlineCitation']['Article'].get('Abstract', {}).get('AbstractText', [])\n",
    "        full_abstract = ' '.join([part for part in abstract_parts])\n",
    "        titles.append(title)\n",
    "        abstracts.append(full_abstract)\n",
    "    return titles, abstracts\n",
    "\n",
    "# Fetch details for all PubMed IDs\n",
    "if not df.empty:\n",
    "    df['PUBMEDID'] = df['PUBMEDID'].astype(str)  # Ensure IDs are in string format\n",
    "    titles, abstracts = fetch_details(df['PUBMEDID'].tolist())\n",
    "    df['Full_title'] = titles\n",
    "    df['Abstract'] = abstracts"
   ]
  },
  {
   "cell_type": "code",
   "execution_count": 15,
   "id": "d605b3aa2516c63b",
   "metadata": {
    "collapsed": false,
    "ExecuteTime": {
     "end_time": "2024-09-30T14:25:21.442261Z",
     "start_time": "2024-09-30T14:25:21.400329Z"
    }
   },
   "outputs": [
    {
     "name": "stdout",
     "output_type": "stream",
     "text": [
      "screening1\n",
      "True     45\n",
      "False    21\n",
      "Name: count, dtype: int64\n",
      "screening2\n",
      "False    60\n",
      "True      6\n",
      "Name: count, dtype: int64\n"
     ]
    },
    {
     "name": "stderr",
     "output_type": "stream",
     "text": [
      "/var/folders/6t/jky9cnrn65x9gfpghzmvfpqh0000gp/T/ipykernel_12546/3953116353.py:10: SettingWithCopyWarning: \n",
      "A value is trying to be set on a copy of a slice from a DataFrame.\n",
      "Try using .loc[row_indexer,col_indexer] = value instead\n",
      "\n",
      "See the caveats in the documentation: https://pandas.pydata.org/pandas-docs/stable/user_guide/indexing.html#returning-a-view-versus-a-copy\n",
      "  df['Record'] = df['Full_title'].fillna('') + \" \" + df['Abstract'].fillna('')\n"
     ]
    }
   ],
   "source": [
    "df = df[['Authors', 'Title',  'Full_title', 'Abstract', 'Details', 'PUBMEDID',\n",
    "       'A comprehensive description of an AI functionality ',\n",
    "       'An evaluation of the economic efficiency and outcomes',\n",
    "       'Quantitative outcomes in at least one healthcare system. ',\n",
    "       'The title did not cover a topic related to AI in healthcare',\n",
    "       'The abstract did not contain a description of an AI in healthcare application',\n",
    "       'The abstract or full text did not elaborate on the quantitative economic outcome in one healthcare system.',\n",
    "       'screening1', 'screening2']]\n",
    "\n",
    "df['Record'] = df['Full_title'].fillna('') + \" \" + df['Abstract'].fillna('')\n",
    "df.to_pickle(f\"{workdir}preprocessed_articles_filtered.pkl\")\n",
    "df.to_excel(f\"{workdir}preprocessed_articles_filtered.xlsx\")\n",
    "print(df['screening1'].value_counts())\n",
    "print(df['screening2'].value_counts())\n"
   ]
  },
  {
   "cell_type": "code",
   "execution_count": 16,
   "id": "d15cb1397309664d",
   "metadata": {
    "collapsed": false,
    "ExecuteTime": {
     "end_time": "2024-09-30T14:25:21.448911Z",
     "start_time": "2024-09-30T14:25:21.444190Z"
    }
   },
   "outputs": [
    {
     "name": "stdout",
     "output_type": "stream",
     "text": [
      "Authors                                                                                                        0\n",
      "Title                                                                                                          0\n",
      "Full_title                                                                                                     0\n",
      "Abstract                                                                                                       0\n",
      "Details                                                                                                        0\n",
      "PUBMEDID                                                                                                       0\n",
      "A comprehensive description of an AI functionality                                                            50\n",
      "An evaluation of the economic efficiency and outcomes                                                         62\n",
      "Quantitative outcomes in at least one healthcare system.                                                      62\n",
      "The title did not cover a topic related to AI in healthcare                                                   52\n",
      "The abstract did not contain a description of an AI in healthcare application                                 65\n",
      "The abstract or full text did not elaborate on the quantitative economic outcome in one healthcare system.    20\n",
      "screening1                                                                                                     0\n",
      "screening2                                                                                                     0\n",
      "Record                                                                                                         0\n",
      "dtype: int64\n"
     ]
    }
   ],
   "source": [
    "# Counting NaNs per column\n",
    "nan_count = df.isna().sum()\n",
    "print(nan_count)"
   ]
  },
  {
   "cell_type": "code",
   "execution_count": 17,
   "id": "9486610d26164f85",
   "metadata": {
    "collapsed": false,
    "ExecuteTime": {
     "end_time": "2024-09-30T14:25:21.454017Z",
     "start_time": "2024-09-30T14:25:21.448681Z"
    }
   },
   "outputs": [],
   "source": [
    "checkpoints_dict = {\n",
    "    \"AI Functionality Description\": \"Return True if the study provides a comprehensive description of an AI functionality used in healthcare; otherwise, return False.\",\n",
    "    \"Economic Evaluation\": \"Return True if the study evaluates the economic efficiency and outcomes of an AI application in healthcare, specifically assessing cost-effectiveness or return on investment; otherwise, return False.\",\n",
    "    \"Quantitative Healthcare Outcomes\": \"Return True if the study reports quantitative outcomes in at least one healthcare system, showing measurable impacts such as patient recovery times, treatment efficacy, or cost savings; otherwise, return False.\",\n",
    "    \"Relevance to AI in Healthcare\": \"Return False if the title of the study does not explicitly cover a topic related to AI in healthcare, indicating the study is not primarily focused on AI applications within healthcare; otherwise, return True.\",\n",
    "    \"AI Application Description\": \"Return False if the abstract does not contain a description of an AI application in healthcare, indicating a lack of focus on how AI technologies are implemented or their functional roles within healthcare; otherwise, return True.\",\n",
    "    \"Economic Outcome Details\": \"Return False if the abstract or full text does not elaborate on the quantitative economic outcomes in one healthcare system, failing to provide specific economic data or analysis related to the AI application; otherwise, return True.\"\n",
    "}"
   ]
  },
  {
   "cell_type": "markdown",
   "id": "7db50efdb603fcf0",
   "metadata": {
    "collapsed": false
   },
   "source": []
  }
 ],
 "metadata": {
  "kernelspec": {
   "display_name": "Python 3 (ipykernel)",
   "language": "python",
   "name": "python3"
  },
  "language_info": {
   "codemirror_mode": {
    "name": "ipython",
    "version": 3
   },
   "file_extension": ".py",
   "mimetype": "text/x-python",
   "name": "python",
   "nbconvert_exporter": "python",
   "pygments_lexer": "ipython3",
   "version": "3.11.9"
  }
 },
 "nbformat": 4,
 "nbformat_minor": 5
}
