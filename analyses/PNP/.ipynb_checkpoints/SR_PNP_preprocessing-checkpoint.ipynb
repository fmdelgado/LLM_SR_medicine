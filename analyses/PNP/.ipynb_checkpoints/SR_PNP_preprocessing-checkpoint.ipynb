{
 "cells": [
  {
   "cell_type": "code",
   "execution_count": 1,
   "id": "initial_id",
   "metadata": {
    "collapsed": true,
    "ExecuteTime": {
     "end_time": "2024-07-31T13:27:59.628275Z",
     "start_time": "2024-07-31T13:27:58.802582Z"
    }
   },
   "outputs": [],
   "source": [
    "import pandas as pd\n",
    "import pandas as pd\n",
    "from Bio import Entrez\n",
    "import time"
   ]
  },
  {
   "cell_type": "code",
   "execution_count": 2,
   "outputs": [
    {
     "name": "stderr",
     "output_type": "stream",
     "text": [
      "/Users/fernando/opt/anaconda3/envs/academate/lib/python3.11/site-packages/openpyxl/worksheet/_reader.py:329: UserWarning: Conditional Formatting extension is not supported and will be removed\n",
      "  warn(msg)\n"
     ]
    },
    {
     "data": {
      "text/plain": "     Duplicate? - Potential dups HL red Disease - CMT/dHMN/HSAN  \\\n0                                   NaN                    Pass   \n1                                   NaN                    Pass   \n2                                   NaN                    Pass   \n3                                   NaN                    Pass   \n4                                   NaN                    Pass   \n...                                 ...                     ...   \n2001                                NaN                    Fail   \n2002                                NaN                    Fail   \n2003                          duplicate                    Fail   \n2004                                NaN                    Fail   \n2005                                NaN                    Fail   \n\n     Treatment - pharmacological or toxic? Human - is it a human trial  \\\n0                                     Fail                         NaN   \n1                                     Pass                        Pass   \n2                                     Fail                         NaN   \n3                                     Pass                        Pass   \n4                                     Fail                         NaN   \n...                                    ...                         ...   \n2001                                   NaN                         NaN   \n2002                                   NaN                         NaN   \n2003                                   NaN                         NaN   \n2004                                   NaN                         NaN   \n2005                                   NaN                         NaN   \n\n     Genetic - is it a genetically defined CMT cohort? Results - declared?  \\\n0                                                  NaN                 NaN   \n1                                                 Pass                Pass   \n2                                                  NaN                 NaN   \n3                                                 Pass                Pass   \n4                                                  NaN                 NaN   \n...                                                ...                 ...   \n2001                                               NaN                 NaN   \n2002                                               NaN                 NaN   \n2003                                               NaN                 NaN   \n2004                                               NaN                 NaN   \n2005                                               NaN                 NaN   \n\n      Include?  Index         Database  \\\n0          NaN      1           PUBMED   \n1     Included      2           PUBMED   \n2          NaN      3           PUBMED   \n3     Included      4           PUBMED   \n4          NaN      5           PUBMED   \n...        ...    ...              ...   \n2001       NaN   2002  COCHRANE TRIALS   \n2002       NaN   2003  COCHRANE TRIALS   \n2003       NaN   2004  COCHRANE TRIALS   \n2004       NaN   2005  COCHRANE TRIALS   \n2005       NaN   2006  COCHRANE TRIALS   \n\n                                                  Title  \\\n0     Unilateral oculomotor palsy in Charcot-Marie-T...   \n1     Clinical and metabolic consequences of L-serin...   \n2     Charcot-Marie-Tooth disease and related geneti...   \n3     Ascorbic acid for the treatment of Charcot-Mar...   \n4     Four novel cases of periaxin-related neuropath...   \n...                                                 ...   \n2001  Randomized, placebo-controlled trial to assess...   \n2002  Comparison of the short-term effects of the co...   \n2003  Comparison of the short-term effects of the co...   \n2004  Clinical trials of treatment of post-stroke fo...   \n2005  Effect of Gabapentin on nerve conduction studi...   \n\n                                                Authors  Year  \\\n0                       A. E. Posa, A.;Kornhuber, M. E.  2017   \n1     M. T. Auranen, J.;Suriyanarayanan, S.;Lone, M....  2017   \n2                                   A. S. Patzko, M. E.  2012   \n3     B. B. Gess, J.;De Jonghe, P.;Reilly, M. M.;Par...  2015   \n4     C. M. Marchesi, M.;Morbin, M.;Cesani, M.;Lauri...  2010   \n...                                                 ...   ...   \n2001  C. B. D. Creech, C. L.Ho, D.Phillips, S.Mackey...  2013   \n2002  F. T. Aybala Kocak, H.Tomruk Sutbeyaz, S.Akkus...  2018   \n2003  F. A. T. Kocak, H.Sutbeyaz, S. T.Akkus, S.Kose...  2018   \n2004              S. C. Liu, X. F.Kuang, W. C.Yu, L. W.  2019   \n2005                                                NaN  2018   \n\n                                                Journal PM_accession  \\\n0                                 Clin Neurol Neurosurg     28214652   \n1                        Cold Spring Harb Mol Case Stud     29042446   \n2                              Continuum (Minneap Minn)     22810069   \n3                            Cochrane Database Syst Rev     26662471   \n4                                             Neurology     21079185   \n...                                                 ...          ...   \n2001                Human vaccines & immunotherapeutics  CN-00978354   \n2002     Turkiye fiziksel tip ve rehabilitasyon dergisi  CN-01572195   \n2003  Turkish journal of physical medicine and rehab...  CN-01645398   \n2004             Zhen CI yan jiu = acupuncture research  CN-01943667   \n2005                    Biomedical research and therapy  CN-01643948   \n\n                                               Abstract  \\\n0     BACKGROUND: Charcot-Marie-Tooth disease (CMT) ...   \n1     Hereditary sensory neuropathy type 1 (HSAN1) m...   \n2     PURPOSE OF REVIEW: The inherited peripheral ne...   \n3     BACKGROUND: Charcot-Marie-Tooth disease (CMT) ...   \n4     OBJECTIVE: To report 4 cases of autosomal rece...   \n...                                                 ...   \n2001                   PUBMED 23955431,EMBASE 372220876   \n2002                                   EMBASE 621392161   \n2003                                   EMBASE 623885734   \n2004                                    PUBMED 31155871   \n2005                                   EMBASE 620339429   \n\n                                              Reference  \\\n0     1872-6968;Posa, A;Emmer, A;Kornhuber, M E;Case...   \n1     2373-2873;Auranen, Mari;Toppila, Jussi;Suriyan...   \n2     Patzko, Agnes;Shy, Michael E;Case Reports;Jour...   \n3     1469-493x;Gess, Burkhard;Baets, Jonathan;De Jo...   \n4     1526-632x;Marchesi, C;Milani, M;Morbin, M;Cesa...   \n...                                                 ...   \n2001  Malaria results in over 650,000 deaths each ye...   \n2002  Objectives: This study aims to compare the eff...   \n2003  Objectives: This study aims to compare the eff...   \n2004  OBJECTIVE: To compare the therapeutic effect o...   \n2005  Background: The most common type of neuropathy...   \n\n                                            Affiliation  screening2  \\\n0     Department of Neurology, Martin-Luther-Univers...       False   \n1     Research Programs Unit, Molecular Neurology, U...        True   \n2     Wayne State University, Detroit, Michigan 4820...       False   \n3     Department of Neurology, University Hospital R...       False   \n4     Unit of Clinic of Central and Peripheral Degen...       False   \n...                                                 ...         ...   \n2001                                                NaN       False   \n2002                                                NaN       False   \n2003                                                NaN       False   \n2004                                                NaN       False   \n2005                                                NaN       False   \n\n     Unnamed: 18  screening1  \n0            NaN       False  \n1            NaN        True  \n2            NaN       False  \n3            NaN        True  \n4            NaN       False  \n...          ...         ...  \n2001         NaN       False  \n2002         NaN       False  \n2003         NaN       False  \n2004         NaN       False  \n2005         NaN       False  \n\n[1655 rows x 20 columns]",
      "text/html": "<div>\n<style scoped>\n    .dataframe tbody tr th:only-of-type {\n        vertical-align: middle;\n    }\n\n    .dataframe tbody tr th {\n        vertical-align: top;\n    }\n\n    .dataframe thead th {\n        text-align: right;\n    }\n</style>\n<table border=\"1\" class=\"dataframe\">\n  <thead>\n    <tr style=\"text-align: right;\">\n      <th></th>\n      <th>Duplicate? - Potential dups HL red</th>\n      <th>Disease - CMT/dHMN/HSAN</th>\n      <th>Treatment - pharmacological or toxic?</th>\n      <th>Human - is it a human trial</th>\n      <th>Genetic - is it a genetically defined CMT cohort?</th>\n      <th>Results - declared?</th>\n      <th>Include?</th>\n      <th>Index</th>\n      <th>Database</th>\n      <th>Title</th>\n      <th>Authors</th>\n      <th>Year</th>\n      <th>Journal</th>\n      <th>PM_accession</th>\n      <th>Abstract</th>\n      <th>Reference</th>\n      <th>Affiliation</th>\n      <th>screening2</th>\n      <th>Unnamed: 18</th>\n      <th>screening1</th>\n    </tr>\n  </thead>\n  <tbody>\n    <tr>\n      <th>0</th>\n      <td>NaN</td>\n      <td>Pass</td>\n      <td>Fail</td>\n      <td>NaN</td>\n      <td>NaN</td>\n      <td>NaN</td>\n      <td>NaN</td>\n      <td>1</td>\n      <td>PUBMED</td>\n      <td>Unilateral oculomotor palsy in Charcot-Marie-T...</td>\n      <td>A. E. Posa, A.;Kornhuber, M. E.</td>\n      <td>2017</td>\n      <td>Clin Neurol Neurosurg</td>\n      <td>28214652</td>\n      <td>BACKGROUND: Charcot-Marie-Tooth disease (CMT) ...</td>\n      <td>1872-6968;Posa, A;Emmer, A;Kornhuber, M E;Case...</td>\n      <td>Department of Neurology, Martin-Luther-Univers...</td>\n      <td>False</td>\n      <td>NaN</td>\n      <td>False</td>\n    </tr>\n    <tr>\n      <th>1</th>\n      <td>NaN</td>\n      <td>Pass</td>\n      <td>Pass</td>\n      <td>Pass</td>\n      <td>Pass</td>\n      <td>Pass</td>\n      <td>Included</td>\n      <td>2</td>\n      <td>PUBMED</td>\n      <td>Clinical and metabolic consequences of L-serin...</td>\n      <td>M. T. Auranen, J.;Suriyanarayanan, S.;Lone, M....</td>\n      <td>2017</td>\n      <td>Cold Spring Harb Mol Case Stud</td>\n      <td>29042446</td>\n      <td>Hereditary sensory neuropathy type 1 (HSAN1) m...</td>\n      <td>2373-2873;Auranen, Mari;Toppila, Jussi;Suriyan...</td>\n      <td>Research Programs Unit, Molecular Neurology, U...</td>\n      <td>True</td>\n      <td>NaN</td>\n      <td>True</td>\n    </tr>\n    <tr>\n      <th>2</th>\n      <td>NaN</td>\n      <td>Pass</td>\n      <td>Fail</td>\n      <td>NaN</td>\n      <td>NaN</td>\n      <td>NaN</td>\n      <td>NaN</td>\n      <td>3</td>\n      <td>PUBMED</td>\n      <td>Charcot-Marie-Tooth disease and related geneti...</td>\n      <td>A. S. Patzko, M. E.</td>\n      <td>2012</td>\n      <td>Continuum (Minneap Minn)</td>\n      <td>22810069</td>\n      <td>PURPOSE OF REVIEW: The inherited peripheral ne...</td>\n      <td>Patzko, Agnes;Shy, Michael E;Case Reports;Jour...</td>\n      <td>Wayne State University, Detroit, Michigan 4820...</td>\n      <td>False</td>\n      <td>NaN</td>\n      <td>False</td>\n    </tr>\n    <tr>\n      <th>3</th>\n      <td>NaN</td>\n      <td>Pass</td>\n      <td>Pass</td>\n      <td>Pass</td>\n      <td>Pass</td>\n      <td>Pass</td>\n      <td>Included</td>\n      <td>4</td>\n      <td>PUBMED</td>\n      <td>Ascorbic acid for the treatment of Charcot-Mar...</td>\n      <td>B. B. Gess, J.;De Jonghe, P.;Reilly, M. M.;Par...</td>\n      <td>2015</td>\n      <td>Cochrane Database Syst Rev</td>\n      <td>26662471</td>\n      <td>BACKGROUND: Charcot-Marie-Tooth disease (CMT) ...</td>\n      <td>1469-493x;Gess, Burkhard;Baets, Jonathan;De Jo...</td>\n      <td>Department of Neurology, University Hospital R...</td>\n      <td>False</td>\n      <td>NaN</td>\n      <td>True</td>\n    </tr>\n    <tr>\n      <th>4</th>\n      <td>NaN</td>\n      <td>Pass</td>\n      <td>Fail</td>\n      <td>NaN</td>\n      <td>NaN</td>\n      <td>NaN</td>\n      <td>NaN</td>\n      <td>5</td>\n      <td>PUBMED</td>\n      <td>Four novel cases of periaxin-related neuropath...</td>\n      <td>C. M. Marchesi, M.;Morbin, M.;Cesani, M.;Lauri...</td>\n      <td>2010</td>\n      <td>Neurology</td>\n      <td>21079185</td>\n      <td>OBJECTIVE: To report 4 cases of autosomal rece...</td>\n      <td>1526-632x;Marchesi, C;Milani, M;Morbin, M;Cesa...</td>\n      <td>Unit of Clinic of Central and Peripheral Degen...</td>\n      <td>False</td>\n      <td>NaN</td>\n      <td>False</td>\n    </tr>\n    <tr>\n      <th>...</th>\n      <td>...</td>\n      <td>...</td>\n      <td>...</td>\n      <td>...</td>\n      <td>...</td>\n      <td>...</td>\n      <td>...</td>\n      <td>...</td>\n      <td>...</td>\n      <td>...</td>\n      <td>...</td>\n      <td>...</td>\n      <td>...</td>\n      <td>...</td>\n      <td>...</td>\n      <td>...</td>\n      <td>...</td>\n      <td>...</td>\n      <td>...</td>\n      <td>...</td>\n    </tr>\n    <tr>\n      <th>2001</th>\n      <td>NaN</td>\n      <td>Fail</td>\n      <td>NaN</td>\n      <td>NaN</td>\n      <td>NaN</td>\n      <td>NaN</td>\n      <td>NaN</td>\n      <td>2002</td>\n      <td>COCHRANE TRIALS</td>\n      <td>Randomized, placebo-controlled trial to assess...</td>\n      <td>C. B. D. Creech, C. L.Ho, D.Phillips, S.Mackey...</td>\n      <td>2013</td>\n      <td>Human vaccines &amp; immunotherapeutics</td>\n      <td>CN-00978354</td>\n      <td>PUBMED 23955431,EMBASE 372220876</td>\n      <td>Malaria results in over 650,000 deaths each ye...</td>\n      <td>NaN</td>\n      <td>False</td>\n      <td>NaN</td>\n      <td>False</td>\n    </tr>\n    <tr>\n      <th>2002</th>\n      <td>NaN</td>\n      <td>Fail</td>\n      <td>NaN</td>\n      <td>NaN</td>\n      <td>NaN</td>\n      <td>NaN</td>\n      <td>NaN</td>\n      <td>2003</td>\n      <td>COCHRANE TRIALS</td>\n      <td>Comparison of the short-term effects of the co...</td>\n      <td>F. T. Aybala Kocak, H.Tomruk Sutbeyaz, S.Akkus...</td>\n      <td>2018</td>\n      <td>Turkiye fiziksel tip ve rehabilitasyon dergisi</td>\n      <td>CN-01572195</td>\n      <td>EMBASE 621392161</td>\n      <td>Objectives: This study aims to compare the eff...</td>\n      <td>NaN</td>\n      <td>False</td>\n      <td>NaN</td>\n      <td>False</td>\n    </tr>\n    <tr>\n      <th>2003</th>\n      <td>duplicate</td>\n      <td>Fail</td>\n      <td>NaN</td>\n      <td>NaN</td>\n      <td>NaN</td>\n      <td>NaN</td>\n      <td>NaN</td>\n      <td>2004</td>\n      <td>COCHRANE TRIALS</td>\n      <td>Comparison of the short-term effects of the co...</td>\n      <td>F. A. T. Kocak, H.Sutbeyaz, S. T.Akkus, S.Kose...</td>\n      <td>2018</td>\n      <td>Turkish journal of physical medicine and rehab...</td>\n      <td>CN-01645398</td>\n      <td>EMBASE 623885734</td>\n      <td>Objectives: This study aims to compare the eff...</td>\n      <td>NaN</td>\n      <td>False</td>\n      <td>NaN</td>\n      <td>False</td>\n    </tr>\n    <tr>\n      <th>2004</th>\n      <td>NaN</td>\n      <td>Fail</td>\n      <td>NaN</td>\n      <td>NaN</td>\n      <td>NaN</td>\n      <td>NaN</td>\n      <td>NaN</td>\n      <td>2005</td>\n      <td>COCHRANE TRIALS</td>\n      <td>Clinical trials of treatment of post-stroke fo...</td>\n      <td>S. C. Liu, X. F.Kuang, W. C.Yu, L. W.</td>\n      <td>2019</td>\n      <td>Zhen CI yan jiu = acupuncture research</td>\n      <td>CN-01943667</td>\n      <td>PUBMED 31155871</td>\n      <td>OBJECTIVE: To compare the therapeutic effect o...</td>\n      <td>NaN</td>\n      <td>False</td>\n      <td>NaN</td>\n      <td>False</td>\n    </tr>\n    <tr>\n      <th>2005</th>\n      <td>NaN</td>\n      <td>Fail</td>\n      <td>NaN</td>\n      <td>NaN</td>\n      <td>NaN</td>\n      <td>NaN</td>\n      <td>NaN</td>\n      <td>2006</td>\n      <td>COCHRANE TRIALS</td>\n      <td>Effect of Gabapentin on nerve conduction studi...</td>\n      <td>NaN</td>\n      <td>2018</td>\n      <td>Biomedical research and therapy</td>\n      <td>CN-01643948</td>\n      <td>EMBASE 620339429</td>\n      <td>Background: The most common type of neuropathy...</td>\n      <td>NaN</td>\n      <td>False</td>\n      <td>NaN</td>\n      <td>False</td>\n    </tr>\n  </tbody>\n</table>\n<p>1655 rows × 20 columns</p>\n</div>"
     },
     "execution_count": 2,
     "metadata": {},
     "output_type": "execute_result"
    }
   ],
   "source": [
    "content_dir = \"/Users/fernando/Documents/Research/academate/test_data/PNP/\"\n",
    "df = pd.read_excel(f\"{content_dir}original_data/CompleteSet_20200117_complete_FOrPublication_v2.xlsx\", sheet_name=\"Sheet1\")\n",
    "df['screening1'] = df['Include?'].str.contains('Included', case=False, na=False)\n",
    "df['screening2'] = df['screening2'].str.contains('Included', case=False, na=False)\n",
    "\n",
    "# Filtering out rows where 'Duplicate? - Potential dups HL red' contains \"not english\" in any case and 'Abstract' is empty.\n",
    "df = df[~df['Duplicate? - Potential dups HL red'].str.contains(\"not english\", case=False, na=False) & df['Abstract'].notna() & df['Abstract'].ne('')]\n",
    "# Concatenate 'Title' and 'Abstract' with a space in between\n",
    "\n",
    "# Define the unwanted characters\n",
    "unwanted_chars = \"[\\\"\\\\t:\\\\n\\\\r\\\\\\\\'“”‘’#@\\$%\\^&\\*\\(\\)-_\\+=\\{\\}\\[\\]|:;<>,\\.\\?/~!]\"\n",
    "\n",
    "# Use the replace function to remove unwanted characters\n",
    "# df['Record'] = df['Record'].str.replace(unwanted_chars, '', regex=True)\n",
    "df"
   ],
   "metadata": {
    "collapsed": false,
    "ExecuteTime": {
     "end_time": "2024-07-31T13:28:00.329116Z",
     "start_time": "2024-07-31T13:27:59.631099Z"
    }
   },
   "id": "a2a91ad0be5d388b"
  },
  {
   "cell_type": "code",
   "execution_count": 3,
   "outputs": [
    {
     "name": "stdout",
     "output_type": "stream",
     "text": [
      "Initial DataFrame shape: (1655, 20)\n",
      "DataFrame shape after removing duplicates: (1650, 20)\n",
      "Number of duplicates removed: 5\n",
      "Number of rows kept with screening1 or screening2 as True: 113\n",
      "\n",
      "First few rows of the final DataFrame:\n",
      "    PM_accession  screening1  screening2\n",
      "548      1282700       False       False\n",
      "184      1310584       False       False\n",
      "256      1319438       False       False\n",
      "89       1344468       False       False\n",
      "219      1429491       False       False\n",
      "\n",
      "No remaining duplicates based on PM_accession\n",
      "\n",
      "Original number of rows with True in either screening column: 113\n",
      "Final number of rows with True in either screening column: 113\n",
      "All rows with True values in screening columns were successfully kept.\n"
     ]
    }
   ],
   "source": [
    "def remove_duplicates_prioritize_screening(df):\n",
    "    # Print initial DataFrame info\n",
    "    print(f\"Initial DataFrame shape: {df.shape}\")\n",
    "\n",
    "    # Ensure 'screening1' and 'screening2' are boolean\n",
    "    df['screening1'] = df['screening1'].fillna(False).astype(bool)\n",
    "    df['screening2'] = df['screening2'].fillna(False).astype(bool)\n",
    "\n",
    "    # Create a priority column (True if either screening1 or screening2 is True)\n",
    "    df['priority'] = df['screening1'] | df['screening2']\n",
    "\n",
    "    # Sort the dataframe by priority (True first) and then by PM_accession\n",
    "    df_sorted = df.sort_values(['PM_accession', 'priority'], ascending=[True, False])\n",
    "\n",
    "    # Remove duplicates, keeping the first occurrence (which will be the prioritized one due to sorting)\n",
    "    df_deduped = df_sorted.drop_duplicates(subset='PM_accession', keep='first')\n",
    "\n",
    "    # Remove the temporary priority column\n",
    "    df_deduped = df_deduped.drop('priority', axis=1)\n",
    "\n",
    "    # Print final DataFrame info\n",
    "    print(f\"DataFrame shape after removing duplicates: {df_deduped.shape}\")\n",
    "    print(f\"Number of duplicates removed: {len(df) - len(df_deduped)}\")\n",
    "\n",
    "    # Check how many prioritized rows were kept\n",
    "    prioritized_kept = df_deduped[df_deduped['screening1'] | df_deduped['screening2']].shape[0]\n",
    "    print(f\"Number of rows kept with screening1 or screening2 as True: {prioritized_kept}\")\n",
    "\n",
    "    return df_deduped\n",
    "    # Remove duplicates\n",
    "df = remove_duplicates_prioritize_screening(df)\n",
    "\n",
    "# Print the first few rows of the final DataFrame\n",
    "print(\"\\nFirst few rows of the final DataFrame:\")\n",
    "print(df[['PM_accession', 'screening1', 'screening2']].head())\n",
    "\n",
    "# Optional: Check for any remaining duplicates\n",
    "remaining_duplicates = df[df.duplicated(subset=['PM_accession'], keep=False)]\n",
    "if len(remaining_duplicates) > 0:\n",
    "    print(f\"\\nWarning: {len(remaining_duplicates)} rows still have duplicate PM_accession\")\n",
    "    print(\"First few duplicate rows:\")\n",
    "    print(remaining_duplicates[['PM_accession', 'screening1', 'screening2']].head())\n",
    "else:\n",
    "    print(\"\\nNo remaining duplicates based on PM_accession\")\n",
    "\n",
    "# Optional: Verify that all True values in screening columns were kept\n",
    "original_true_count = (df['screening1'].fillna(False) | df['screening2'].fillna(False)).sum()\n",
    "final_true_count = (df['screening1'] | df['screening2']).sum()\n",
    "\n",
    "print(f\"\\nOriginal number of rows with True in either screening column: {original_true_count}\")\n",
    "print(f\"Final number of rows with True in either screening column: {final_true_count}\")\n",
    "\n",
    "if original_true_count == final_true_count:\n",
    "    print(\"All rows with True values in screening columns were successfully kept.\")\n",
    "else:\n",
    "    print(\"Warning: Some rows with True values in screening columns may have been removed.\")"
   ],
   "metadata": {
    "collapsed": false,
    "ExecuteTime": {
     "end_time": "2024-07-31T13:28:00.369428Z",
     "start_time": "2024-07-31T13:28:00.327830Z"
    }
   },
   "id": "61b8ab71309ac4bc"
  },
  {
   "cell_type": "code",
   "execution_count": 4,
   "outputs": [],
   "source": [
    "\n",
    "def fetch_pubmed_data(pmid_list):\n",
    "    Entrez.email = \"your.email@example.com\"\n",
    "    Entrez.api_key =\"6612adb1664dde66a9845144b57618e3a808\"\n",
    "\n",
    "    results = []\n",
    "    batch_size = 100\n",
    "\n",
    "    for i in range(0, len(pmid_list), batch_size):\n",
    "        batch = pmid_list[i:i+batch_size]\n",
    "        \n",
    "        try:\n",
    "            handle = Entrez.efetch(db=\"pubmed\", id=batch, rettype=\"medline\", retmode=\"xml\")\n",
    "            records = Entrez.read(handle)\n",
    "\n",
    "            for record in records['PubmedArticle']:\n",
    "                pmid = record['MedlineCitation']['PMID']\n",
    "                title = record['MedlineCitation']['Article']['ArticleTitle']\n",
    "                abstract = record['MedlineCitation']['Article'].get('Abstract', {}).get('AbstractText', [''])[0]\n",
    "                \n",
    "                # Extract DOI\n",
    "                doi = ''\n",
    "                for id_obj in record['PubmedData'].get('ArticleIdList', []):\n",
    "                    if id_obj.attributes.get('IdType') == 'doi':\n",
    "                        doi = str(id_obj)\n",
    "                        break\n",
    "\n",
    "                results.append({\n",
    "                    'pmid': pmid,\n",
    "                    'final_title': title,\n",
    "                    'final_abstract': abstract,\n",
    "                    'DOI': doi\n",
    "                })\n",
    "\n",
    "            handle.close()\n",
    "            time.sleep(0.1)\n",
    "\n",
    "        except Exception as e:\n",
    "            print(f\"Error fetching data for batch {i}-{i+batch_size}: {str(e)}\")\n",
    "\n",
    "    return pd.DataFrame(results)\n",
    "\n",
    "def add_pubmed_data_to_df(df, pmid_column):\n",
    "    # Extract unique, non-null PubMed IDs\n",
    "    pmids = df[pmid_column].dropna().astype(str).unique().tolist()\n",
    "    \n",
    "    # Fetch data from PubMed\n",
    "    pubmed_data = fetch_pubmed_data(pmids)\n",
    "    \n",
    "    # Merge the fetched data with the original dataframe\n",
    "    df = df.merge(pubmed_data, left_on=pmid_column, right_on='pmid', how='left')\n",
    "    \n",
    "    # Fill NaN values in new columns\n",
    "    df['final_title'] = df['final_title'].fillna(df['Title'])  # Assuming you have a 'Title' column\n",
    "    df['final_abstract'] = df['final_abstract'].fillna(df['Abstract'])  # Assuming you have an 'Abstract' column\n",
    "    df['DOI'] = df['DOI'].fillna('')\n",
    "    \n",
    "    return df\n",
    "\n",
    "df = add_pubmed_data_to_df(df, 'PM_accession')"
   ],
   "metadata": {
    "collapsed": false,
    "ExecuteTime": {
     "end_time": "2024-07-31T13:28:29.719192Z",
     "start_time": "2024-07-31T13:28:00.353757Z"
    }
   },
   "id": "4250af9b99f4c3da"
  },
  {
   "cell_type": "code",
   "execution_count": 5,
   "outputs": [],
   "source": [
    "df['Record'] = df['final_title'].fillna('') + \" \" + df['final_abstract'].fillna('')"
   ],
   "metadata": {
    "collapsed": false,
    "ExecuteTime": {
     "end_time": "2024-07-31T13:28:29.736550Z",
     "start_time": "2024-07-31T13:28:29.732338Z"
    }
   },
   "id": "6637d6d99fe86ea0"
  },
  {
   "cell_type": "code",
   "execution_count": 6,
   "outputs": [
    {
     "data": {
      "text/plain": "     Duplicate? - Potential dups HL red Disease - CMT/dHMN/HSAN  \\\n0                                   NaN                    Pass   \n1                                   NaN                    Pass   \n2                                   NaN                    Pass   \n3                                   NaN                    Pass   \n4                                   NaN                    Fail   \n...                                 ...                     ...   \n1645                                NaN                    Fail   \n1646                                NaN                    Fail   \n1647                                NaN                    Fail   \n1648                                NaN                    Fail   \n1649                                NaN                    Pass   \n\n     Treatment - pharmacological or toxic? Human - is it a human trial  \\\n0                                    Fail                          NaN   \n1                                     Pass                        Pass   \n2                                     Fail                         NaN   \n3                                     Fail                         NaN   \n4                                      NaN                         NaN   \n...                                    ...                         ...   \n1645                                   NaN                         NaN   \n1646                                   NaN                         NaN   \n1647                                   NaN                         NaN   \n1648                                   NaN                         NaN   \n1649                                  Pass                        Pass   \n\n     Genetic - is it a genetically defined CMT cohort? Results - declared?  \\\n0                                                  NaN                 NaN   \n1                                                 Fail                 NaN   \n2                                                  NaN                 NaN   \n3                                                  NaN                 NaN   \n4                                                  NaN                 NaN   \n...                                                ...                 ...   \n1645                                               NaN                 NaN   \n1646                                               NaN                 NaN   \n1647                                               NaN                 NaN   \n1648                                               NaN                 NaN   \n1649                                              Pass                Pass   \n\n      Include?  Index         Database  \\\n0          NaN    549           PUBMED   \n1          NaN    185           PUBMED   \n2          NaN    257           PUBMED   \n3          NaN     90           PUBMED   \n4          NaN    220           PUBMED   \n...        ...    ...              ...   \n1645       NaN   1960  COCHRANE TRIALS   \n1646       NaN   1828  COCHRANE TRIALS   \n1647       NaN   1878  COCHRANE TRIALS   \n1648       NaN   2005  COCHRANE TRIALS   \n1649  Included   1455     COCHRANE NMD   \n\n                                                  Title  ...  \\\n0     In vivo study of phytanic acid alpha-oxidation...  ...   \n1     Hereditary motor and sensory neuropathy with t...  ...   \n2     Evaluation and management of upper extremity n...  ...   \n3     [Hereditary sensory-motor polyneuropathy. Case...  ...   \n4     An unexpected complication following immunoads...  ...   \n...                                                 ...  ...   \n1645  Comparative effectiveness of Chuna manual ther...  ...   \n1646  EFFECTS OF PATISIRAN, AN RNA INTERFERENCE THER...  ...   \n1647  Cybernic treatment using the cyborg-type robot...  ...   \n1648  Clinical trials of treatment of post-stroke fo...  ...   \n1649          Treatment for Charcot‐Marie‐Tooth disease  ...   \n\n                                              Reference  \\\n0     ten Brink, H J;Schor, D S;Kok, R M;Stellaard, ...   \n1     Jaradeh, S;Dyck, P J;Case Reports;Clinical Tri...   \n2     Brown, R E;Zamboni, W A;Zook, E G;Russell, R C...   \n3     Kelemen, A;Nikolic, V;Case Reports;English Abs...   \n4     Huestis, D W;Rifkin, R M;Durie, B G;Sibley, W ...   \n...                                                 ...   \n1645  Background: Low back pain (LBP) is common, wit...   \n1646  Background: Cardiac amyloidosis patients demon...   \n1647  Prof. Sankai (Tsukuba Univ. & CYBERDYNE Inc.) ...   \n1648  OBJECTIVE: To compare the therapeutic effect o...   \n1649                                                NaN   \n\n                                            Affiliation screening2  \\\n0     Department of Pediatrics, Free University Hosp...      False   \n1     Department of Neurology, Medical College of Wi...      False   \n2     Division of Plastic Surgery, Southern Illinois...      False   \n3     Zavod za neurologiju i psihijatriju razvojnog ...      False   \n4     Department of Pathology, University of Arizona...      False   \n...                                                 ...        ...   \n1645                                                NaN      False   \n1646                                                NaN      False   \n1647                                                NaN      False   \n1648                                                NaN      False   \n1649                                                NaN      False   \n\n                                         Unnamed: 18 screening1 pmid  \\\n0                                                NaN      False  NaN   \n1                                                NaN      False  NaN   \n2                                                NaN      False  NaN   \n3                                                NaN      False  NaN   \n4                                                NaN      False  NaN   \n...                                              ...        ...  ...   \n1645                                             NaN      False  NaN   \n1646                                             NaN      False  NaN   \n1647                                             NaN      False  NaN   \n1648                                             NaN      False  NaN   \n1649  https://doi.org/10.1002/14651858.CD006052.pub2       True  NaN   \n\n                                            final_title  \\\n0     In vivo study of phytanic acid alpha-oxidation...   \n1     Hereditary motor and sensory neuropathy with t...   \n2     Evaluation and management of upper extremity n...   \n3     [Hereditary sensory-motor polyneuropathy. Case...   \n4     An unexpected complication following immunoads...   \n...                                                 ...   \n1645  Comparative effectiveness of Chuna manual ther...   \n1646  EFFECTS OF PATISIRAN, AN RNA INTERFERENCE THER...   \n1647  Cybernic treatment using the cyborg-type robot...   \n1648  Clinical trials of treatment of post-stroke fo...   \n1649          Treatment for Charcot‐Marie‐Tooth disease   \n\n                                         final_abstract DOI  \\\n0     A series of in vivo experiments is described i...       \n1     Seven patients with a sensorimotor peripheral ...       \n2     The evaluation and treatment of five patients ...       \n3     The study reports a family in which three chil...       \n4     Extracorporeal immune adsorption with staphylo...       \n...                                                 ...  ..   \n1645                   PUBMED 30987662,EMBASE 627234116       \n1646                                  EMBASE 2001639475       \n1647                                   EMBASE 627390206       \n1648                                    PUBMED 31155871       \n1649  Charcot‐Marie‐Tooth disease (CMT) comprises a ...       \n\n                                                 Record  \n0     In vivo study of phytanic acid alpha-oxidation...  \n1     Hereditary motor and sensory neuropathy with t...  \n2     Evaluation and management of upper extremity n...  \n3     [Hereditary sensory-motor polyneuropathy. Case...  \n4     An unexpected complication following immunoads...  \n...                                                 ...  \n1645  Comparative effectiveness of Chuna manual ther...  \n1646  EFFECTS OF PATISIRAN, AN RNA INTERFERENCE THER...  \n1647  Cybernic treatment using the cyborg-type robot...  \n1648  Clinical trials of treatment of post-stroke fo...  \n1649  Treatment for Charcot‐Marie‐Tooth disease Char...  \n\n[1650 rows x 25 columns]",
      "text/html": "<div>\n<style scoped>\n    .dataframe tbody tr th:only-of-type {\n        vertical-align: middle;\n    }\n\n    .dataframe tbody tr th {\n        vertical-align: top;\n    }\n\n    .dataframe thead th {\n        text-align: right;\n    }\n</style>\n<table border=\"1\" class=\"dataframe\">\n  <thead>\n    <tr style=\"text-align: right;\">\n      <th></th>\n      <th>Duplicate? - Potential dups HL red</th>\n      <th>Disease - CMT/dHMN/HSAN</th>\n      <th>Treatment - pharmacological or toxic?</th>\n      <th>Human - is it a human trial</th>\n      <th>Genetic - is it a genetically defined CMT cohort?</th>\n      <th>Results - declared?</th>\n      <th>Include?</th>\n      <th>Index</th>\n      <th>Database</th>\n      <th>Title</th>\n      <th>...</th>\n      <th>Reference</th>\n      <th>Affiliation</th>\n      <th>screening2</th>\n      <th>Unnamed: 18</th>\n      <th>screening1</th>\n      <th>pmid</th>\n      <th>final_title</th>\n      <th>final_abstract</th>\n      <th>DOI</th>\n      <th>Record</th>\n    </tr>\n  </thead>\n  <tbody>\n    <tr>\n      <th>0</th>\n      <td>NaN</td>\n      <td>Pass</td>\n      <td>Fail</td>\n      <td>NaN</td>\n      <td>NaN</td>\n      <td>NaN</td>\n      <td>NaN</td>\n      <td>549</td>\n      <td>PUBMED</td>\n      <td>In vivo study of phytanic acid alpha-oxidation...</td>\n      <td>...</td>\n      <td>ten Brink, H J;Schor, D S;Kok, R M;Stellaard, ...</td>\n      <td>Department of Pediatrics, Free University Hosp...</td>\n      <td>False</td>\n      <td>NaN</td>\n      <td>False</td>\n      <td>NaN</td>\n      <td>In vivo study of phytanic acid alpha-oxidation...</td>\n      <td>A series of in vivo experiments is described i...</td>\n      <td></td>\n      <td>In vivo study of phytanic acid alpha-oxidation...</td>\n    </tr>\n    <tr>\n      <th>1</th>\n      <td>NaN</td>\n      <td>Pass</td>\n      <td>Pass</td>\n      <td>Pass</td>\n      <td>Fail</td>\n      <td>NaN</td>\n      <td>NaN</td>\n      <td>185</td>\n      <td>PUBMED</td>\n      <td>Hereditary motor and sensory neuropathy with t...</td>\n      <td>...</td>\n      <td>Jaradeh, S;Dyck, P J;Case Reports;Clinical Tri...</td>\n      <td>Department of Neurology, Medical College of Wi...</td>\n      <td>False</td>\n      <td>NaN</td>\n      <td>False</td>\n      <td>NaN</td>\n      <td>Hereditary motor and sensory neuropathy with t...</td>\n      <td>Seven patients with a sensorimotor peripheral ...</td>\n      <td></td>\n      <td>Hereditary motor and sensory neuropathy with t...</td>\n    </tr>\n    <tr>\n      <th>2</th>\n      <td>NaN</td>\n      <td>Pass</td>\n      <td>Fail</td>\n      <td>NaN</td>\n      <td>NaN</td>\n      <td>NaN</td>\n      <td>NaN</td>\n      <td>257</td>\n      <td>PUBMED</td>\n      <td>Evaluation and management of upper extremity n...</td>\n      <td>...</td>\n      <td>Brown, R E;Zamboni, W A;Zook, E G;Russell, R C...</td>\n      <td>Division of Plastic Surgery, Southern Illinois...</td>\n      <td>False</td>\n      <td>NaN</td>\n      <td>False</td>\n      <td>NaN</td>\n      <td>Evaluation and management of upper extremity n...</td>\n      <td>The evaluation and treatment of five patients ...</td>\n      <td></td>\n      <td>Evaluation and management of upper extremity n...</td>\n    </tr>\n    <tr>\n      <th>3</th>\n      <td>NaN</td>\n      <td>Pass</td>\n      <td>Fail</td>\n      <td>NaN</td>\n      <td>NaN</td>\n      <td>NaN</td>\n      <td>NaN</td>\n      <td>90</td>\n      <td>PUBMED</td>\n      <td>[Hereditary sensory-motor polyneuropathy. Case...</td>\n      <td>...</td>\n      <td>Kelemen, A;Nikolic, V;Case Reports;English Abs...</td>\n      <td>Zavod za neurologiju i psihijatriju razvojnog ...</td>\n      <td>False</td>\n      <td>NaN</td>\n      <td>False</td>\n      <td>NaN</td>\n      <td>[Hereditary sensory-motor polyneuropathy. Case...</td>\n      <td>The study reports a family in which three chil...</td>\n      <td></td>\n      <td>[Hereditary sensory-motor polyneuropathy. Case...</td>\n    </tr>\n    <tr>\n      <th>4</th>\n      <td>NaN</td>\n      <td>Fail</td>\n      <td>NaN</td>\n      <td>NaN</td>\n      <td>NaN</td>\n      <td>NaN</td>\n      <td>NaN</td>\n      <td>220</td>\n      <td>PUBMED</td>\n      <td>An unexpected complication following immunoads...</td>\n      <td>...</td>\n      <td>Huestis, D W;Rifkin, R M;Durie, B G;Sibley, W ...</td>\n      <td>Department of Pathology, University of Arizona...</td>\n      <td>False</td>\n      <td>NaN</td>\n      <td>False</td>\n      <td>NaN</td>\n      <td>An unexpected complication following immunoads...</td>\n      <td>Extracorporeal immune adsorption with staphylo...</td>\n      <td></td>\n      <td>An unexpected complication following immunoads...</td>\n    </tr>\n    <tr>\n      <th>...</th>\n      <td>...</td>\n      <td>...</td>\n      <td>...</td>\n      <td>...</td>\n      <td>...</td>\n      <td>...</td>\n      <td>...</td>\n      <td>...</td>\n      <td>...</td>\n      <td>...</td>\n      <td>...</td>\n      <td>...</td>\n      <td>...</td>\n      <td>...</td>\n      <td>...</td>\n      <td>...</td>\n      <td>...</td>\n      <td>...</td>\n      <td>...</td>\n      <td>...</td>\n      <td>...</td>\n    </tr>\n    <tr>\n      <th>1645</th>\n      <td>NaN</td>\n      <td>Fail</td>\n      <td>NaN</td>\n      <td>NaN</td>\n      <td>NaN</td>\n      <td>NaN</td>\n      <td>NaN</td>\n      <td>1960</td>\n      <td>COCHRANE TRIALS</td>\n      <td>Comparative effectiveness of Chuna manual ther...</td>\n      <td>...</td>\n      <td>Background: Low back pain (LBP) is common, wit...</td>\n      <td>NaN</td>\n      <td>False</td>\n      <td>NaN</td>\n      <td>False</td>\n      <td>NaN</td>\n      <td>Comparative effectiveness of Chuna manual ther...</td>\n      <td>PUBMED 30987662,EMBASE 627234116</td>\n      <td></td>\n      <td>Comparative effectiveness of Chuna manual ther...</td>\n    </tr>\n    <tr>\n      <th>1646</th>\n      <td>NaN</td>\n      <td>Fail</td>\n      <td>NaN</td>\n      <td>NaN</td>\n      <td>NaN</td>\n      <td>NaN</td>\n      <td>NaN</td>\n      <td>1828</td>\n      <td>COCHRANE TRIALS</td>\n      <td>EFFECTS OF PATISIRAN, AN RNA INTERFERENCE THER...</td>\n      <td>...</td>\n      <td>Background: Cardiac amyloidosis patients demon...</td>\n      <td>NaN</td>\n      <td>False</td>\n      <td>NaN</td>\n      <td>False</td>\n      <td>NaN</td>\n      <td>EFFECTS OF PATISIRAN, AN RNA INTERFERENCE THER...</td>\n      <td>EMBASE 2001639475</td>\n      <td></td>\n      <td>EFFECTS OF PATISIRAN, AN RNA INTERFERENCE THER...</td>\n    </tr>\n    <tr>\n      <th>1647</th>\n      <td>NaN</td>\n      <td>Fail</td>\n      <td>NaN</td>\n      <td>NaN</td>\n      <td>NaN</td>\n      <td>NaN</td>\n      <td>NaN</td>\n      <td>1878</td>\n      <td>COCHRANE TRIALS</td>\n      <td>Cybernic treatment using the cyborg-type robot...</td>\n      <td>...</td>\n      <td>Prof. Sankai (Tsukuba Univ. &amp; CYBERDYNE Inc.) ...</td>\n      <td>NaN</td>\n      <td>False</td>\n      <td>NaN</td>\n      <td>False</td>\n      <td>NaN</td>\n      <td>Cybernic treatment using the cyborg-type robot...</td>\n      <td>EMBASE 627390206</td>\n      <td></td>\n      <td>Cybernic treatment using the cyborg-type robot...</td>\n    </tr>\n    <tr>\n      <th>1648</th>\n      <td>NaN</td>\n      <td>Fail</td>\n      <td>NaN</td>\n      <td>NaN</td>\n      <td>NaN</td>\n      <td>NaN</td>\n      <td>NaN</td>\n      <td>2005</td>\n      <td>COCHRANE TRIALS</td>\n      <td>Clinical trials of treatment of post-stroke fo...</td>\n      <td>...</td>\n      <td>OBJECTIVE: To compare the therapeutic effect o...</td>\n      <td>NaN</td>\n      <td>False</td>\n      <td>NaN</td>\n      <td>False</td>\n      <td>NaN</td>\n      <td>Clinical trials of treatment of post-stroke fo...</td>\n      <td>PUBMED 31155871</td>\n      <td></td>\n      <td>Clinical trials of treatment of post-stroke fo...</td>\n    </tr>\n    <tr>\n      <th>1649</th>\n      <td>NaN</td>\n      <td>Pass</td>\n      <td>Pass</td>\n      <td>Pass</td>\n      <td>Pass</td>\n      <td>Pass</td>\n      <td>Included</td>\n      <td>1455</td>\n      <td>COCHRANE NMD</td>\n      <td>Treatment for Charcot‐Marie‐Tooth disease</td>\n      <td>...</td>\n      <td>NaN</td>\n      <td>NaN</td>\n      <td>False</td>\n      <td>https://doi.org/10.1002/14651858.CD006052.pub2</td>\n      <td>True</td>\n      <td>NaN</td>\n      <td>Treatment for Charcot‐Marie‐Tooth disease</td>\n      <td>Charcot‐Marie‐Tooth disease (CMT) comprises a ...</td>\n      <td></td>\n      <td>Treatment for Charcot‐Marie‐Tooth disease Char...</td>\n    </tr>\n  </tbody>\n</table>\n<p>1650 rows × 25 columns</p>\n</div>"
     },
     "execution_count": 6,
     "metadata": {},
     "output_type": "execute_result"
    }
   ],
   "source": [
    "df"
   ],
   "metadata": {
    "collapsed": false,
    "ExecuteTime": {
     "end_time": "2024-07-31T13:28:29.785267Z",
     "start_time": "2024-07-31T13:28:29.745456Z"
    }
   },
   "id": "92613c8f6b5241f7"
  },
  {
   "cell_type": "code",
   "execution_count": 7,
   "outputs": [],
   "source": [
    "df = df[['PM_accession',  'final_title', 'final_abstract',  'Database', 'Authors', 'Year', 'Journal', \n",
    "    'screening1', 'screening2', 'Record', 'Duplicate? - Potential dups HL red', 'Disease - CMT/dHMN/HSAN',\n",
    "       'Treatment - pharmacological or toxic?', 'Human - is it a human trial',\n",
    "       'Genetic - is it a genetically defined CMT cohort?',\n",
    "       'Results - declared?', 'Include?']]"
   ],
   "metadata": {
    "collapsed": false,
    "ExecuteTime": {
     "end_time": "2024-07-31T13:28:29.798774Z",
     "start_time": "2024-07-31T13:28:29.792089Z"
    }
   },
   "id": "13003bf9ab75129c"
  },
  {
   "cell_type": "code",
   "execution_count": 8,
   "outputs": [
    {
     "name": "stdout",
     "output_type": "stream",
     "text": [
      "screening1  screening2\n",
      "False       False         1537\n",
      "True        False           91\n",
      "            True            22\n",
      "Name: count, dtype: int64\n",
      "screening1\n",
      "False    1537\n",
      "True      113\n",
      "Name: count, dtype: int64\n",
      "screening2\n",
      "False    1628\n",
      "True       22\n",
      "Name: count, dtype: int64\n"
     ]
    }
   ],
   "source": [
    "df.to_pickle(f\"{content_dir}PNP_preprocessed.pkl\")\n",
    "df.to_excel(f\"{content_dir}PNP_preprocessed.xlsx\")\n",
    "\n",
    "print(df[['screening1', 'screening2']].value_counts())\n",
    "print(df.screening1.value_counts())\n",
    "print(df.screening2.value_counts())\n",
    "# Counting NaNs per column\n",
    "nan_count = df.isna().sum()"
   ],
   "metadata": {
    "collapsed": false,
    "ExecuteTime": {
     "end_time": "2024-07-31T13:28:31.202542Z",
     "start_time": "2024-07-31T13:28:29.809382Z"
    }
   },
   "id": "d9984036b45459c"
  },
  {
   "cell_type": "code",
   "execution_count": 9,
   "outputs": [
    {
     "name": "stdout",
     "output_type": "stream",
     "text": [
      "Number of duplicates in each column:\n",
      "PM_accession: 0\n",
      "final_title: 84\n",
      "final_abstract: 0\n",
      "Database: 1646\n",
      "Authors: 37\n",
      "Year: 1615\n",
      "Journal: 868\n",
      "screening1: 1648\n",
      "screening2: 1648\n",
      "Record: 0\n",
      "Duplicate? - Potential dups HL red: 1589\n",
      "Disease - CMT/dHMN/HSAN: 1644\n",
      "Treatment - pharmacological or toxic?: 1644\n",
      "Human - is it a human trial: 1645\n",
      "Genetic - is it a genetically defined CMT cohort?: 1644\n",
      "Results - declared?: 1645\n",
      "Include?: 1643\n"
     ]
    }
   ],
   "source": [
    "# Dictionary to store the count of duplicate elements for each column\n",
    "duplicate_counts = {}\n",
    "\n",
    "# Iterate over each column in the DataFrame\n",
    "for column in df.columns:\n",
    "    # Find duplicates and count them\n",
    "    num_duplicates = df[column].duplicated().sum()\n",
    "    duplicate_counts[column] = num_duplicates\n",
    "\n",
    "# Print the number of duplicates in each column\n",
    "print(\"Number of duplicates in each column:\")\n",
    "for column, count in duplicate_counts.items():\n",
    "    print(f\"{column}: {count}\")"
   ],
   "metadata": {
    "collapsed": false,
    "ExecuteTime": {
     "end_time": "2024-07-31T13:28:31.211616Z",
     "start_time": "2024-07-31T13:28:31.201186Z"
    }
   },
   "id": "c99f54290e3f11ab"
  },
  {
   "cell_type": "code",
   "execution_count": 10,
   "outputs": [],
   "source": [
    "\n",
    "checkpoints_dict = {\n",
    "    \"Disease\": \"If the study investigates a condition that is classified as a form of hereditary peripheral neuropathy and is recognized based on its genetic basis in medical literature, return True. Otherwise, return False.\",\n",
    "    \"Treatment\": \"If the study focuses on pharmacological therapies or genotype-related dietary changes specifically targeting the neuropathy, return True. If the study primarily investigates non-pharmacological interventions such as physiotherapy, surgery, and genetic counseling, return False.\",\n",
    "    \"Human\": \"If the study involves human participants, return True. If it involves only animal models or in vitro studies, return False.\",\n",
    "    \"Genetic\": \"If human participants in the study are confirmed to have hereditary peripheral neuropathy through direct genetic testing or through family genetic association where further individual testing might not be necessary, return True. This includes confirmation through nucleotide-based assays and clinically accepted diagnostic methods such as specific enzyme activity in biopsies, judged on a case-by-case basis to be as definitive as genetic tests. If the study includes participants diagnosed only based on clinical symptoms without genetic confirmation, return False.\",\n",
    "    \"Results\": \"If results are reported specifically for the genetically confirmed cohort in studies including both genetically confirmed and non-confirmed participants, return True. If the study does not segregate data between genetically confirmed and non-confirmed participants, or if results from credible sources and databases are not exclusively from interventional studies with available results, return False.\"\n",
    "}\n"
   ],
   "metadata": {
    "collapsed": false,
    "ExecuteTime": {
     "end_time": "2024-07-31T13:28:31.215850Z",
     "start_time": "2024-07-31T13:28:31.208959Z"
    }
   },
   "id": "74415c36b3f43db2"
  },
  {
   "cell_type": "code",
   "execution_count": 28,
   "outputs": [
    {
     "name": "stdout",
     "output_type": "stream",
     "text": [
      "113\n"
     ]
    }
   ],
   "source": [
    "aritcles_with_pdf = pd.read_excel(f\"{content_dir}final_papers_data_handEdition.xls\")\n",
    "print(len(aritcles_with_pdf))"
   ],
   "metadata": {
    "collapsed": false,
    "ExecuteTime": {
     "end_time": "2024-07-31T13:38:23.463586Z",
     "start_time": "2024-07-31T13:38:23.451126Z"
    }
   },
   "id": "46fffec6abf2fbbd"
  },
  {
   "cell_type": "code",
   "execution_count": 30,
   "outputs": [],
   "source": [
    "aritcles_with_pdf = aritcles_with_pdf[~aritcles_with_pdf['filename'].isna()]\n",
    "aritcles_with_pdf['pdf_name'] = aritcles_with_pdf['filename'].astype(str) + \".pdf\"\n",
    "aritcles_with_pdf.to_pickle(f\"{content_dir}preprocessed_articles_filtered.pkl\")"
   ],
   "metadata": {
    "collapsed": false,
    "ExecuteTime": {
     "end_time": "2024-07-31T13:43:06.456940Z",
     "start_time": "2024-07-31T13:43:06.445409Z"
    }
   },
   "id": "958acb4d1eb956ba"
  }
 ],
 "metadata": {
  "kernelspec": {
   "display_name": "Python 3",
   "language": "python",
   "name": "python3"
  },
  "language_info": {
   "codemirror_mode": {
    "name": "ipython",
    "version": 2
   },
   "file_extension": ".py",
   "mimetype": "text/x-python",
   "name": "python",
   "nbconvert_exporter": "python",
   "pygments_lexer": "ipython2",
   "version": "2.7.6"
  }
 },
 "nbformat": 4,
 "nbformat_minor": 5
}
