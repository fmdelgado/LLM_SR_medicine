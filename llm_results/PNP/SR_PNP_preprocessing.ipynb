{
 "cells": [
  {
   "cell_type": "code",
   "execution_count": 5,
   "id": "initial_id",
   "metadata": {
    "collapsed": true,
    "ExecuteTime": {
     "end_time": "2024-06-04T17:28:48.743807Z",
     "start_time": "2024-06-04T17:28:48.733143Z"
    }
   },
   "outputs": [],
   "source": [
    "import pandas as pd"
   ]
  },
  {
   "cell_type": "markdown",
   "source": [],
   "metadata": {
    "collapsed": false
   },
   "id": "1659f4236035c89"
  },
  {
   "cell_type": "code",
   "execution_count": 6,
   "outputs": [
    {
     "name": "stderr",
     "output_type": "stream",
     "text": [
      "/Users/fernando/opt/anaconda3/envs/chatdrex/lib/python3.11/site-packages/openpyxl/worksheet/_reader.py:329: UserWarning: Conditional Formatting extension is not supported and will be removed\n",
      "  warn(msg)\n"
     ]
    },
    {
     "data": {
      "text/plain": "'Unilateral oculomotor palsy in Charcot-Marie-Tooth disease 1A (CMT 1A) BACKGROUND: Charcot-Marie-Tooth disease (CMT) type 1A is the most common form of CMT 1 and one of the autosomal dominant demyelinating hereditary motor and sensory neuropathies (HMSN). Cranial nerves may be frequently subclinically affected in CMT disease. However manifest clinical signs of cranial nerve involvement are rare. METHODS: This case comprise neurological, ophthalmological, internal medicine and ear-nose-throat investigation, motor and sensory nerve conduction velocity, auditory evoked potentials and orbicularis-oculi reflex measurements, lumbar puncture and blood examination, inclusive molecular genetic testing, as well as electrocardiogram and cranial imaging such as computer tomography and magnetic resonance imaging RESULTS: The present case shows a Charcot-Marie-Tooth (CMT) 1A patient with complete unilateral oculomotor palsy in combination with predominant ipsilateral subclinical trigeminal demyelination. A combined of third and fifth cranial nerves as in our patient has not been reported yet. CONCLUSIONS: This case shows cranial nerve involvement as an unusual leading symptom of CMT 1A. It may remind us that hereditary neuropathies have to be taken into consideration in patients with slowly progressing unilateral or asymmetric cranial neuropathies.'"
     },
     "execution_count": 6,
     "metadata": {},
     "output_type": "execute_result"
    }
   ],
   "source": [
    "content_dir = \"//Users/fernando/Documents/Research/LLM_SR_medicine/llm_results/PNP/\"\n",
    "df = pd.read_excel(f\"{content_dir}original_data/CompleteSet_20200117_complete_FOrPublication_v2.xlsx\", sheet_name=\"Sheet1\")\n",
    "df['screening1'] = df['Include?'].str.contains('Included', case=False, na=False)\n",
    "df['screening2'] = df['screening2'].str.contains('Included', case=False, na=False)\n",
    "\n",
    "# Filtering out rows where 'Duplicate? - Potential dups HL red' contains \"not english\" in any case and 'Abstract' is empty.\n",
    "df = df[~df['Duplicate? - Potential dups HL red'].str.contains(\"not english\", case=False, na=False) & df['Abstract'].notna() & df['Abstract'].ne('')]\n",
    "# Concatenate 'Title' and 'Abstract' with a space in between\n",
    "df['Record'] = df['Title'].fillna('') + \" \" + df['Abstract'].fillna('')\n",
    "\n",
    "# Define the unwanted characters\n",
    "unwanted_chars = \"[\\\"\\\\t:\\\\n\\\\r\\\\\\\\'“”‘’#@\\$%\\^&\\*\\(\\)-_\\+=\\{\\}\\[\\]|:;<>,\\.\\?/~!]\"\n",
    "\n",
    "# Use the replace function to remove unwanted characters\n",
    "# df['Record'] = df['Record'].str.replace(unwanted_chars, '', regex=True)\n",
    "df.iloc[0]['Record']"
   ],
   "metadata": {
    "collapsed": false,
    "ExecuteTime": {
     "end_time": "2024-06-04T17:28:49.069028Z",
     "start_time": "2024-06-04T17:28:48.739757Z"
    }
   },
   "id": "a2a91ad0be5d388b"
  },
  {
   "cell_type": "code",
   "execution_count": 7,
   "outputs": [
    {
     "name": "stdout",
     "output_type": "stream",
     "text": [
      "screening1  screening2\n",
      "False       False         1539\n",
      "True        False           94\n",
      "            True            22\n",
      "Name: count, dtype: int64\n",
      "screening1\n",
      "False    1539\n",
      "True      116\n",
      "Name: count, dtype: int64\n",
      "screening2\n",
      "False    1633\n",
      "True       22\n",
      "Name: count, dtype: int64\n"
     ]
    }
   ],
   "source": [
    "df.to_pickle(f\"{content_dir}PNP_preprocessed.pkl\")\n",
    "print(df[['screening1', 'screening2']].value_counts())\n",
    "print(df.screening1.value_counts())\n",
    "print(df.screening2.value_counts())\n",
    "# Counting NaNs per column\n",
    "nan_count = df.isna().sum()"
   ],
   "metadata": {
    "collapsed": false,
    "ExecuteTime": {
     "end_time": "2024-06-04T17:28:49.087909Z",
     "start_time": "2024-06-04T17:28:49.068193Z"
    }
   },
   "id": "d9984036b45459c"
  },
  {
   "cell_type": "code",
   "execution_count": 8,
   "outputs": [],
   "source": [
    "\n",
    "checkpoints_dict = {\n",
    "    \"Disease\": \"If the study investigates a condition that is classified as a form of hereditary peripheral neuropathy and is recognized based on its genetic basis in medical literature, return True. Otherwise, return False.\",\n",
    "    \"Treatment\": \"If the study focuses on pharmacological therapies or genotype-related dietary changes specifically targeting the neuropathy, return True. If the study primarily investigates non-pharmacological interventions such as physiotherapy, surgery, and genetic counseling, return False.\",\n",
    "    \"Human\": \"If the study involves human participants, return True. If it involves only animal models or in vitro studies, return False.\",\n",
    "    \"Genetic\": \"If human participants in the study are confirmed to have hereditary peripheral neuropathy through direct genetic testing or through family genetic association where further individual testing might not be necessary, return True. This includes confirmation through nucleotide-based assays and clinically accepted diagnostic methods such as specific enzyme activity in biopsies, judged on a case-by-case basis to be as definitive as genetic tests. If the study includes participants diagnosed only based on clinical symptoms without genetic confirmation, return False.\",\n",
    "    \"Results\": \"If results are reported specifically for the genetically confirmed cohort in studies including both genetically confirmed and non-confirmed participants, return True. If the study does not segregate data between genetically confirmed and non-confirmed participants, or if results from credible sources and databases are not exclusively from interventional studies with available results, return False.\"\n",
    "}\n"
   ],
   "metadata": {
    "collapsed": false,
    "ExecuteTime": {
     "end_time": "2024-06-04T17:28:49.115800Z",
     "start_time": "2024-06-04T17:28:49.084193Z"
    }
   },
   "id": "74415c36b3f43db2"
  }
 ],
 "metadata": {
  "kernelspec": {
   "display_name": "Python 3",
   "language": "python",
   "name": "python3"
  },
  "language_info": {
   "codemirror_mode": {
    "name": "ipython",
    "version": 2
   },
   "file_extension": ".py",
   "mimetype": "text/x-python",
   "name": "python",
   "nbconvert_exporter": "python",
   "pygments_lexer": "ipython2",
   "version": "2.7.6"
  }
 },
 "nbformat": 4,
 "nbformat_minor": 5
}
