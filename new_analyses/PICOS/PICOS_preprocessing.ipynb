{
 "cells": [
  {
   "cell_type": "code",
   "execution_count": 19,
   "id": "initial_id",
   "metadata": {
    "collapsed": true,
    "jupyter": {
     "outputs_hidden": true
    },
    "ExecuteTime": {
     "end_time": "2024-11-06T13:52:45.339592Z",
     "start_time": "2024-11-06T13:52:44.261811Z"
    }
   },
   "outputs": [],
   "source": [
    "import pandas as pd\n",
    "from xml.etree import ElementTree as ET\n",
    "import numpy as np\n",
    "from sklearn.feature_extraction.text import TfidfVectorizer\n",
    "from sklearn.metrics.pairwise import cosine_similarity\n",
    "\n",
    "content_dir = '/Users/fernando/Documents/Research/LLM_SR_medicine/reviews_data/PICOS/'\n",
    "file_path = '/Users/fernando/Documents/Research/LLM_SR_medicine/reviews_data/PICOS/All_incl_articles_20230630.xml'\n",
    "tree = ET.parse(file_path)\n",
    "root = tree.getroot()"
   ]
  },
  {
   "cell_type": "code",
   "execution_count": 20,
   "id": "8404a91d52546d38",
   "metadata": {
    "collapsed": false,
    "ExecuteTime": {
     "end_time": "2024-11-06T13:52:45.614064Z",
     "start_time": "2024-11-06T13:52:45.395443Z"
    }
   },
   "outputs": [
    {
     "data": {
      "text/plain": "                                                 record  \\\n0     All_incl_articles_20230630.enlEndNote1117Clini...   \n1     All_incl_articles_20230630.enlEndNote2217Osteo...   \n2     All_incl_articles_20230630.enlEndNote3317Obesi...   \n3     All_incl_articles_20230630.enlEndNote4417Unite...   \n4     All_incl_articles_20230630.enlEndNote5517Physi...   \n...                                                 ...   \n4657  All_incl_articles_20230630.enlEndNote404640461...   \n4658  All_incl_articles_20230630.enlEndNote404740471...   \n4659  All_incl_articles_20230630.enlEndNote404840481...   \n4660  All_incl_articles_20230630.enlEndNote404940491...   \n4661  All_incl_articles_20230630.enlEndNote405040501...   \n\n                            database source-app rec-number foreign-keys   key  \\\n0     All_incl_articles_20230630.enl    EndNote          1            1     1   \n1     All_incl_articles_20230630.enl    EndNote          2            2     2   \n2     All_incl_articles_20230630.enl    EndNote          3            3     3   \n3     All_incl_articles_20230630.enl    EndNote          4            4     4   \n4     All_incl_articles_20230630.enl    EndNote          5            5     5   \n...                              ...        ...        ...          ...   ...   \n4657  All_incl_articles_20230630.enl    EndNote       4046         4046  4046   \n4658  All_incl_articles_20230630.enl    EndNote       4047         4047  4047   \n4659  All_incl_articles_20230630.enl    EndNote       4048         4048  4048   \n4660  All_incl_articles_20230630.enl    EndNote       4049         4049  4049   \n4661  All_incl_articles_20230630.enl    EndNote       4050         4050  4050   \n\n     ref-type                                       contributors  \\\n0          17                                                      \n1          17                                                      \n2          17                                                      \n3          17                                                      \n4          17                                                      \n...       ...                                                ...   \n4657       17  Zongo, N.Korsaga Somé, N.Ouédraogo, S.Ouédraog...   \n4658       17  Zorowitz, R. D.Smout, R. J.Gassaway, J. A.Horn...   \n4659       17  Zucchi, B.Mangone, M.Agostini, F.Paoloni, M.Pe...   \n4660       17   Zügner, R.Tranberg, R.Lisovskaja, V.Kärrholm, J.   \n4661       17  Zusman, E. Z.Dawes, M.Fleig, L.McAllister, M. ...   \n\n                                                 titles  \\\n0     Clinical practice guidelines for the diagnosis...   \n1     Osteoporosis prevention, diagnosis, and therap...   \n2     Obesity: preventing and managing the global ep...   \n3     United Kingdom back pain exercise and manipula...   \n4     Physiotherapy rehabilitation after total knee ...   \n...                                                 ...   \n4657  [Cancer of the vulva: Diagnostic stages, treat...   \n4658  Usage of pain medications during stroke rehabi...   \n4659  Movement Analysis with Inertial Measurement Un...   \n4660  Different reliability of instrumented gait ana...   \n4661  Older Adults' Sedentary Behavior and Physical ...   \n\n                                                  title  ...  \\\n0     Clinical practice guidelines for the diagnosis...  ...   \n1       Osteoporosis prevention, diagnosis, and therapy  ...   \n2     Obesity: preventing and managing the global ep...  ...   \n3     United Kingdom back pain exercise and manipula...  ...   \n4     Physiotherapy rehabilitation after total knee ...  ...   \n...                                                 ...  ...   \n4657  [Cancer of the vulva: Diagnostic stages, treat...  ...   \n4658  Usage of pain medications during stroke rehabi...  ...   \n4659  Movement Analysis with Inertial Measurement Un...  ...   \n4660  Different reliability of instrumented gait ana...  ...   \n4661  Older Adults' Sedentary Behavior and Physical ...  ...   \n\n     remote-database-name                                            authors  \\\n0                     NaN                                                NaN   \n1                     NaN                                                NaN   \n2                     NaN                                                NaN   \n3                     NaN                                                NaN   \n4                     NaN                                                NaN   \n...                   ...                                                ...   \n4657                  NaN  Zongo, N.Korsaga Somé, N.Ouédraogo, S.Ouédraog...   \n4658                  NaN  Zorowitz, R. D.Smout, R. J.Gassaway, J. A.Horn...   \n4659                  NaN  Zucchi, B.Mangone, M.Agostini, F.Paoloni, M.Pe...   \n4660                  NaN   Zügner, R.Tranberg, R.Lisovskaja, V.Kärrholm, J.   \n4661                  NaN  Zusman, E. Z.Dawes, M.Fleig, L.McAllister, M. ...   \n\n            author related-urls  url custom6  \\\n0              NaN          NaN  NaN     NaN   \n1              NaN          NaN  NaN     NaN   \n2              NaN          NaN  NaN     NaN   \n3              NaN          NaN  NaN     NaN   \n4              NaN          NaN  NaN     NaN   \n...            ...          ...  ...     ...   \n4657       Dem, A.          NaN  NaN     NaN   \n4658   Horn, S. D.          NaN  NaN     NaN   \n4659   Villani, C.          NaN  NaN     NaN   \n4660  Kärrholm, J.          NaN  NaN     NaN   \n4661   Ashe, M. C.          NaN  NaN     NaN   \n\n                                               orig-pub publisher  \\\n0                                                   NaN       NaN   \n1                                                   NaN       NaN   \n2                                                   NaN       NaN   \n3                                                   NaN       NaN   \n4                                                   NaN       NaN   \n...                                                 ...       ...   \n4657  Cancer de la vulve : stades diagnostiques, tra...       NaN   \n4658                                                NaN       NaN   \n4659                                                NaN       NaN   \n4660                                                NaN       NaN   \n4661                                                NaN       NaN   \n\n     secondary-authors translated-title  \n0                  NaN              NaN  \n1                  NaN              NaN  \n2                  NaN              NaN  \n3                  NaN              NaN  \n4                  NaN              NaN  \n...                ...              ...  \n4657               NaN              NaN  \n4658               NaN              NaN  \n4659               NaN              NaN  \n4660               NaN              NaN  \n4661               NaN              NaN  \n\n[4662 rows x 44 columns]",
      "text/html": "<div>\n<style scoped>\n    .dataframe tbody tr th:only-of-type {\n        vertical-align: middle;\n    }\n\n    .dataframe tbody tr th {\n        vertical-align: top;\n    }\n\n    .dataframe thead th {\n        text-align: right;\n    }\n</style>\n<table border=\"1\" class=\"dataframe\">\n  <thead>\n    <tr style=\"text-align: right;\">\n      <th></th>\n      <th>record</th>\n      <th>database</th>\n      <th>source-app</th>\n      <th>rec-number</th>\n      <th>foreign-keys</th>\n      <th>key</th>\n      <th>ref-type</th>\n      <th>contributors</th>\n      <th>titles</th>\n      <th>title</th>\n      <th>...</th>\n      <th>remote-database-name</th>\n      <th>authors</th>\n      <th>author</th>\n      <th>related-urls</th>\n      <th>url</th>\n      <th>custom6</th>\n      <th>orig-pub</th>\n      <th>publisher</th>\n      <th>secondary-authors</th>\n      <th>translated-title</th>\n    </tr>\n  </thead>\n  <tbody>\n    <tr>\n      <th>0</th>\n      <td>All_incl_articles_20230630.enlEndNote1117Clini...</td>\n      <td>All_incl_articles_20230630.enl</td>\n      <td>EndNote</td>\n      <td>1</td>\n      <td>1</td>\n      <td>1</td>\n      <td>17</td>\n      <td></td>\n      <td>Clinical practice guidelines for the diagnosis...</td>\n      <td>Clinical practice guidelines for the diagnosis...</td>\n      <td>...</td>\n      <td>NaN</td>\n      <td>NaN</td>\n      <td>NaN</td>\n      <td>NaN</td>\n      <td>NaN</td>\n      <td>NaN</td>\n      <td>NaN</td>\n      <td>NaN</td>\n      <td>NaN</td>\n      <td>NaN</td>\n    </tr>\n    <tr>\n      <th>1</th>\n      <td>All_incl_articles_20230630.enlEndNote2217Osteo...</td>\n      <td>All_incl_articles_20230630.enl</td>\n      <td>EndNote</td>\n      <td>2</td>\n      <td>2</td>\n      <td>2</td>\n      <td>17</td>\n      <td></td>\n      <td>Osteoporosis prevention, diagnosis, and therap...</td>\n      <td>Osteoporosis prevention, diagnosis, and therapy</td>\n      <td>...</td>\n      <td>NaN</td>\n      <td>NaN</td>\n      <td>NaN</td>\n      <td>NaN</td>\n      <td>NaN</td>\n      <td>NaN</td>\n      <td>NaN</td>\n      <td>NaN</td>\n      <td>NaN</td>\n      <td>NaN</td>\n    </tr>\n    <tr>\n      <th>2</th>\n      <td>All_incl_articles_20230630.enlEndNote3317Obesi...</td>\n      <td>All_incl_articles_20230630.enl</td>\n      <td>EndNote</td>\n      <td>3</td>\n      <td>3</td>\n      <td>3</td>\n      <td>17</td>\n      <td></td>\n      <td>Obesity: preventing and managing the global ep...</td>\n      <td>Obesity: preventing and managing the global ep...</td>\n      <td>...</td>\n      <td>NaN</td>\n      <td>NaN</td>\n      <td>NaN</td>\n      <td>NaN</td>\n      <td>NaN</td>\n      <td>NaN</td>\n      <td>NaN</td>\n      <td>NaN</td>\n      <td>NaN</td>\n      <td>NaN</td>\n    </tr>\n    <tr>\n      <th>3</th>\n      <td>All_incl_articles_20230630.enlEndNote4417Unite...</td>\n      <td>All_incl_articles_20230630.enl</td>\n      <td>EndNote</td>\n      <td>4</td>\n      <td>4</td>\n      <td>4</td>\n      <td>17</td>\n      <td></td>\n      <td>United Kingdom back pain exercise and manipula...</td>\n      <td>United Kingdom back pain exercise and manipula...</td>\n      <td>...</td>\n      <td>NaN</td>\n      <td>NaN</td>\n      <td>NaN</td>\n      <td>NaN</td>\n      <td>NaN</td>\n      <td>NaN</td>\n      <td>NaN</td>\n      <td>NaN</td>\n      <td>NaN</td>\n      <td>NaN</td>\n    </tr>\n    <tr>\n      <th>4</th>\n      <td>All_incl_articles_20230630.enlEndNote5517Physi...</td>\n      <td>All_incl_articles_20230630.enl</td>\n      <td>EndNote</td>\n      <td>5</td>\n      <td>5</td>\n      <td>5</td>\n      <td>17</td>\n      <td></td>\n      <td>Physiotherapy rehabilitation after total knee ...</td>\n      <td>Physiotherapy rehabilitation after total knee ...</td>\n      <td>...</td>\n      <td>NaN</td>\n      <td>NaN</td>\n      <td>NaN</td>\n      <td>NaN</td>\n      <td>NaN</td>\n      <td>NaN</td>\n      <td>NaN</td>\n      <td>NaN</td>\n      <td>NaN</td>\n      <td>NaN</td>\n    </tr>\n    <tr>\n      <th>...</th>\n      <td>...</td>\n      <td>...</td>\n      <td>...</td>\n      <td>...</td>\n      <td>...</td>\n      <td>...</td>\n      <td>...</td>\n      <td>...</td>\n      <td>...</td>\n      <td>...</td>\n      <td>...</td>\n      <td>...</td>\n      <td>...</td>\n      <td>...</td>\n      <td>...</td>\n      <td>...</td>\n      <td>...</td>\n      <td>...</td>\n      <td>...</td>\n      <td>...</td>\n      <td>...</td>\n    </tr>\n    <tr>\n      <th>4657</th>\n      <td>All_incl_articles_20230630.enlEndNote404640461...</td>\n      <td>All_incl_articles_20230630.enl</td>\n      <td>EndNote</td>\n      <td>4046</td>\n      <td>4046</td>\n      <td>4046</td>\n      <td>17</td>\n      <td>Zongo, N.Korsaga Somé, N.Ouédraogo, S.Ouédraog...</td>\n      <td>[Cancer of the vulva: Diagnostic stages, treat...</td>\n      <td>[Cancer of the vulva: Diagnostic stages, treat...</td>\n      <td>...</td>\n      <td>NaN</td>\n      <td>Zongo, N.Korsaga Somé, N.Ouédraogo, S.Ouédraog...</td>\n      <td>Dem, A.</td>\n      <td>NaN</td>\n      <td>NaN</td>\n      <td>NaN</td>\n      <td>Cancer de la vulve : stades diagnostiques, tra...</td>\n      <td>NaN</td>\n      <td>NaN</td>\n      <td>NaN</td>\n    </tr>\n    <tr>\n      <th>4658</th>\n      <td>All_incl_articles_20230630.enlEndNote404740471...</td>\n      <td>All_incl_articles_20230630.enl</td>\n      <td>EndNote</td>\n      <td>4047</td>\n      <td>4047</td>\n      <td>4047</td>\n      <td>17</td>\n      <td>Zorowitz, R. D.Smout, R. J.Gassaway, J. A.Horn...</td>\n      <td>Usage of pain medications during stroke rehabi...</td>\n      <td>Usage of pain medications during stroke rehabi...</td>\n      <td>...</td>\n      <td>NaN</td>\n      <td>Zorowitz, R. D.Smout, R. J.Gassaway, J. A.Horn...</td>\n      <td>Horn, S. D.</td>\n      <td>NaN</td>\n      <td>NaN</td>\n      <td>NaN</td>\n      <td>NaN</td>\n      <td>NaN</td>\n      <td>NaN</td>\n      <td>NaN</td>\n    </tr>\n    <tr>\n      <th>4659</th>\n      <td>All_incl_articles_20230630.enlEndNote404840481...</td>\n      <td>All_incl_articles_20230630.enl</td>\n      <td>EndNote</td>\n      <td>4048</td>\n      <td>4048</td>\n      <td>4048</td>\n      <td>17</td>\n      <td>Zucchi, B.Mangone, M.Agostini, F.Paoloni, M.Pe...</td>\n      <td>Movement Analysis with Inertial Measurement Un...</td>\n      <td>Movement Analysis with Inertial Measurement Un...</td>\n      <td>...</td>\n      <td>NaN</td>\n      <td>Zucchi, B.Mangone, M.Agostini, F.Paoloni, M.Pe...</td>\n      <td>Villani, C.</td>\n      <td>NaN</td>\n      <td>NaN</td>\n      <td>NaN</td>\n      <td>NaN</td>\n      <td>NaN</td>\n      <td>NaN</td>\n      <td>NaN</td>\n    </tr>\n    <tr>\n      <th>4660</th>\n      <td>All_incl_articles_20230630.enlEndNote404940491...</td>\n      <td>All_incl_articles_20230630.enl</td>\n      <td>EndNote</td>\n      <td>4049</td>\n      <td>4049</td>\n      <td>4049</td>\n      <td>17</td>\n      <td>Zügner, R.Tranberg, R.Lisovskaja, V.Kärrholm, J.</td>\n      <td>Different reliability of instrumented gait ana...</td>\n      <td>Different reliability of instrumented gait ana...</td>\n      <td>...</td>\n      <td>NaN</td>\n      <td>Zügner, R.Tranberg, R.Lisovskaja, V.Kärrholm, J.</td>\n      <td>Kärrholm, J.</td>\n      <td>NaN</td>\n      <td>NaN</td>\n      <td>NaN</td>\n      <td>NaN</td>\n      <td>NaN</td>\n      <td>NaN</td>\n      <td>NaN</td>\n    </tr>\n    <tr>\n      <th>4661</th>\n      <td>All_incl_articles_20230630.enlEndNote405040501...</td>\n      <td>All_incl_articles_20230630.enl</td>\n      <td>EndNote</td>\n      <td>4050</td>\n      <td>4050</td>\n      <td>4050</td>\n      <td>17</td>\n      <td>Zusman, E. Z.Dawes, M.Fleig, L.McAllister, M. ...</td>\n      <td>Older Adults' Sedentary Behavior and Physical ...</td>\n      <td>Older Adults' Sedentary Behavior and Physical ...</td>\n      <td>...</td>\n      <td>NaN</td>\n      <td>Zusman, E. Z.Dawes, M.Fleig, L.McAllister, M. ...</td>\n      <td>Ashe, M. C.</td>\n      <td>NaN</td>\n      <td>NaN</td>\n      <td>NaN</td>\n      <td>NaN</td>\n      <td>NaN</td>\n      <td>NaN</td>\n      <td>NaN</td>\n    </tr>\n  </tbody>\n</table>\n<p>4662 rows × 44 columns</p>\n</div>"
     },
     "execution_count": 20,
     "metadata": {},
     "output_type": "execute_result"
    }
   ],
   "source": [
    "\n",
    "def get_all_text(element, default=None):\n",
    "    \"\"\"Recursively get all text in the element and its descendants.\"\"\"\n",
    "    if element is not None:\n",
    "        return ''.join(element.itertext())\n",
    "    return default\n",
    "\n",
    "def parse_record(record):\n",
    "    \"\"\"Parse a single record and return a dictionary.\"\"\"\n",
    "    row = {}\n",
    "    for child in record.iter():\n",
    "        tag = child.tag\n",
    "        text = get_all_text(child)\n",
    "        row[tag] = text\n",
    "    return row\n",
    "\n",
    "data = [parse_record(record) for record in root.findall('./records/record')]\n",
    "df = pd.DataFrame(data)\n",
    "df"
   ]
  },
  {
   "cell_type": "code",
   "execution_count": 21,
   "id": "1cb6366bcc850591",
   "metadata": {
    "collapsed": false,
    "ExecuteTime": {
     "end_time": "2024-11-06T13:52:47.100049Z",
     "start_time": "2024-11-06T13:52:45.611199Z"
    }
   },
   "outputs": [
    {
     "name": "stdout",
     "output_type": "stream",
     "text": [
      "4662\n",
      "4662\n",
      "4652\n",
      "10\n",
      "4662\n",
      "4662\n"
     ]
    },
    {
     "name": "stderr",
     "output_type": "stream",
     "text": [
      "/var/folders/6t/jky9cnrn65x9gfpghzmvfpqh0000gp/T/ipykernel_55494/2984490714.py:18: SettingWithCopyWarning: \n",
      "A value is trying to be set on a copy of a slice from a DataFrame.\n",
      "Try using .loc[row_indexer,col_indexer] = value instead\n",
      "\n",
      "See the caveats in the documentation: https://pandas.pydata.org/pandas-docs/stable/user_guide/indexing.html#returning-a-view-versus-a-copy\n",
      "  duplicates['uniqueid'] = duplicates['record'].str.extract(pattern)\n"
     ]
    },
    {
     "name": "stdout",
     "output_type": "stream",
     "text": [
      "screening1\n",
      "False    4477\n",
      "True      185\n",
      "Name: count, dtype: int64\n",
      "screening2\n",
      "False    4587\n",
      "True       75\n",
      "Name: count, dtype: int64\n",
      "screening1  screening2\n",
      "False       False         4477\n",
      "True        False          110\n",
      "            True            75\n",
      "Name: count, dtype: int64\n",
      "4662\n",
      "\n",
      "Number of NaNs per column:\n",
      "\n",
      "record                         0\n",
      "database                       0\n",
      "source-app                     0\n",
      "rec-number                     0\n",
      "foreign-keys                   0\n",
      "key                            0\n",
      "ref-type                       0\n",
      "contributors                   0\n",
      "titles                         0\n",
      "title                          1\n",
      "style                          0\n",
      "secondary-title                7\n",
      "short-title                  613\n",
      "pages                        193\n",
      "volume                       175\n",
      "number                       633\n",
      "edition                      643\n",
      "keywords                     385\n",
      "keyword                      385\n",
      "dates                          0\n",
      "year                           2\n",
      "pub-dates                   1029\n",
      "date                        1029\n",
      "isbn                         174\n",
      "accession-num                612\n",
      "abstract                     161\n",
      "notes                         16\n",
      "urls                           0\n",
      "custom2                     2725\n",
      "remote-database-provider     690\n",
      "language                      34\n",
      "electronic-resource-num      447\n",
      "auth-address                 822\n",
      "pub-location                4639\n",
      "remote-database-name        3988\n",
      "authors                       14\n",
      "author                        14\n",
      "related-urls                4584\n",
      "url                         4584\n",
      "custom6                     4554\n",
      "orig-pub                    4455\n",
      "publisher                   4643\n",
      "secondary-authors           4661\n",
      "translated-title            4653\n",
      "concatenated_fields            0\n",
      "uniqueid                       1\n",
      "screening1                     0\n",
      "screening2                     0\n",
      "dtype: int64\n"
     ]
    }
   ],
   "source": [
    "\n",
    "# We'll use TF-IDF to vectorize the lines and DataFrame text, then use cosine similarity to find the best matches.\n",
    "df['concatenated_fields'] = df[[ 'contributors', 'titles', 'title','secondary-title', 'short-title','pages', 'volume', 'number',\n",
    "       'edition', 'keywords', 'keyword', 'dates', 'year', 'pub-dates', 'date',\n",
    "       'isbn', 'accession-num', 'authors',\n",
    "       'author',]].fillna('').astype(str).apply(lambda x: ' '.join(x), axis=1)\n",
    "\n",
    "pattern = r'(enlEndNote\\d+[A-Za-z]+)'\n",
    "print(len(df))\n",
    "# Finding duplicated rows\n",
    "df.drop_duplicates()# Showing duplicated rows\n",
    "print(len(df))\n",
    "df['uniqueid'] = df['record'].str.extract(pattern)\n",
    "print(len(df['uniqueid'].unique()))\n",
    "duplicates = df[df.duplicated(subset='uniqueid')]\n",
    "df=df.drop_duplicates(subset='uniqueid', keep='first')\n",
    "\n",
    "pattern = r'(enlEndNote\\d+)'\n",
    "duplicates['uniqueid'] = duplicates['record'].str.extract(pattern)\n",
    "print(len(duplicates['uniqueid'].unique()))\n",
    "df=pd.concat([df,duplicates])\n",
    "print(len(df['uniqueid'].unique()))\n",
    "\n",
    "df = df.drop_duplicates(subset='uniqueid', keep='first')\n",
    "print(len(df['uniqueid'].unique()))\n",
    "\n",
    "# Create a TF-IDF Vectorizer\n",
    "vectorizer = TfidfVectorizer(min_df=1, analyzer='word', stop_words='english')\n",
    "\n",
    "\n",
    "# Re-load the corrected text file since the variable was lost\n",
    "with open(f'{content_dir}screening2_info/corrected_excluded_screening2.txt', 'r') as file:\n",
    "    corrected_lines = file.readlines()\n",
    "\n",
    "# Strip whitespace for a clean comparison\n",
    "corrected_lines = [line.strip() for line in corrected_lines]\n",
    "\n",
    "\n",
    "# We'll use TF-IDF to vectorize the lines and DataFrame text, then use cosine similarity to find the best matches.\n",
    "\n",
    "# Create a TF-IDF Vectorizer\n",
    "vectorizer = TfidfVectorizer(min_df=1, analyzer='word', stop_words='english')\n",
    "\n",
    "# Vectorize the concatenated fields of the DataFrame\n",
    "tfidf_matrix_df = vectorizer.fit_transform(df['concatenated_fields'])\n",
    "\n",
    "# Vectorize the lines from the text file\n",
    "tfidf_matrix_lines = vectorizer.transform(corrected_lines)\n",
    "\n",
    "# Calculate the cosine similarity between each line and each row in the DataFrame\n",
    "cosine_similarities = cosine_similarity(tfidf_matrix_lines, tfidf_matrix_df)\n",
    "\n",
    "# For each line, find the index of the row with the highest cosine similarity\n",
    "best_match_indices = np.argmax(cosine_similarities, axis=1)\n",
    "\n",
    "# Get the similarity scores for the best matches\n",
    "best_match_scores = cosine_similarities[np.arange(cosine_similarities.shape[0]), best_match_indices]\n",
    "\n",
    "# Pair each line with its best matching row index and similarity score\n",
    "matching_results = list(zip(best_match_indices, best_match_scores))\n",
    "\n",
    "\n",
    "\n",
    "# Create a dataframe to hold the results for better visualization\n",
    "matches_df = pd.DataFrame({\n",
    "    'LineIndex': np.arange(len(corrected_lines)),\n",
    "    'BestMatchRowIndex': best_match_indices,\n",
    "    'SimilarityScore': best_match_scores\n",
    "})\n",
    "\n",
    "# Add the corresponding line and the matching text from the dataframe to the results dataframe\n",
    "matches_df['Line'] = [corrected_lines[i] for i in matches_df['LineIndex']]\n",
    "matches_df['BestMatchText'] = [df.iloc[i]['concatenated_fields'] for i in matches_df['BestMatchRowIndex']]\n",
    "\n",
    "matches_df.loc[matches_df['LineIndex'] == 64, 'BestMatchRowIndex'] = 252\n",
    "matches_df.loc[matches_df['LineIndex'] == 16, 'BestMatchRowIndex'] = 1414\n",
    "matches_df[matches_df.BestMatchRowIndex.duplicated(keep=False)]\n",
    "\n",
    "df['screening1'] = False\n",
    "df['screening2'] = False\n",
    "\n",
    "df['screening1'] = df.index.isin(matches_df['BestMatchRowIndex'])\n",
    "df.screening1.value_counts()\n",
    "\n",
    "\n",
    "with open(f'{content_dir}screening1_info/75_included.txt', 'r') as file:\n",
    "    included75 = file.read().split('\\n')\n",
    "\n",
    "with open(f'{content_dir}screening1_info/citations_included.txt', 'r') as file:\n",
    "    citations_review = file.read().split('\\n')\n",
    "\n",
    "# Create a TF-IDF Vectorizer\n",
    "vectorizer = TfidfVectorizer(min_df=1, analyzer='word', stop_words='english')\n",
    "# Strip whitespace for a clean comparison\n",
    "corrected_lines = [line.strip() for line in citations_review]\n",
    "# We'll use TF-IDF to vectorize the lines and DataFrame text, then use cosine similarity to find the best matches.\n",
    "\n",
    "# Create a TF-IDF Vectorizer\n",
    "vectorizer = TfidfVectorizer(min_df=1, analyzer='word', stop_words='english')\n",
    "\n",
    "# Vectorize the concatenated fields of the DataFrame\n",
    "tfidf_matrix_df = vectorizer.fit_transform(df['concatenated_fields'])\n",
    "\n",
    "# Vectorize the lines from the text file\n",
    "tfidf_matrix_lines = vectorizer.transform(citations_review)\n",
    "\n",
    "# Calculate the cosine similarity between each line and each row in the DataFrame\n",
    "cosine_similarities = cosine_similarity(tfidf_matrix_lines, tfidf_matrix_df)\n",
    "\n",
    "# For each line, find the index of the row with the highest cosine similarity\n",
    "best_match_indices = np.argmax(cosine_similarities, axis=1)\n",
    "\n",
    "# Get the similarity scores for the best matches\n",
    "best_match_scores = cosine_similarities[np.arange(cosine_similarities.shape[0]), best_match_indices]\n",
    "\n",
    "# Pair each line with its best matching row index and similarity score\n",
    "matching_results = list(zip(best_match_indices, best_match_scores))\n",
    "\n",
    "\n",
    "# Create a dataframe to hold the results for better visualization\n",
    "matches_df = pd.DataFrame({\n",
    "    'LineIndex': np.arange(len(citations_review)),\n",
    "    'BestMatchRowIndex': best_match_indices,\n",
    "    'SimilarityScore': best_match_scores\n",
    "})\n",
    "\n",
    "# Add the corresponding line and the matching text from the dataframe to the results dataframe\n",
    "matches_df['Line'] = [corrected_lines[i] for i in matches_df['LineIndex']]\n",
    "matches_df['BestMatchText'] = [df.iloc[i]['concatenated_fields'] for i in matches_df['BestMatchRowIndex']]\n",
    "\n",
    "\n",
    "df['screening2'] = df.index.isin(matches_df['BestMatchRowIndex'])\n",
    "df.screening2.value_counts()\n",
    "\n",
    "\n",
    "df.loc[df['screening2'] == True, 'screening1'] = True\n",
    "print(df['screening1'].value_counts())\n",
    "print(df['screening2'].value_counts())\n",
    "print(df.groupby('screening1')['screening2'].value_counts())\n",
    "print(df.groupby('screening1')['screening2'].value_counts().sum())\n",
    "\n",
    "# Counting NaNs per column\n",
    "nan_count = df.isna().sum()\n",
    "\n",
    "print(\"\\nNumber of NaNs per column:\\n\")\n",
    "print(nan_count)\n",
    "# df.to_pickle(f\"{content_dir}preprocessed_articles.pkl\")"
   ]
  },
  {
   "cell_type": "code",
   "execution_count": 22,
   "id": "94745973d153783c",
   "metadata": {
    "collapsed": false,
    "ExecuteTime": {
     "end_time": "2024-11-06T13:52:51.903964Z",
     "start_time": "2024-11-06T13:52:47.109554Z"
    }
   },
   "outputs": [
    {
     "name": "stdout",
     "output_type": "stream",
     "text": [
      "4662 161\n",
      "screening1\n",
      "False    4320\n",
      "True      181\n",
      "Name: count, dtype: int64\n",
      "screening1  screening2\n",
      "False       False         4320\n",
      "True        False          108\n",
      "            True            73\n",
      "Name: count, dtype: int64\n"
     ]
    }
   ],
   "source": [
    "df['uniqueid'] = df.index.astype(str)\n",
    "# find indeces with no title or abstract or is nan\n",
    "no_title_abstract = df[(df['titles'] == '') | (df['abstract'] == '') | (df['titles'].isna()) | (df['abstract'].isna())]\n",
    "no_title_abstract.to_pickle(f\"{content_dir}no_title_abstract.pkl\")\n",
    "df.drop(\"uniqueid\", axis=1, inplace=True)\n",
    "\n",
    "print(len(df),len(no_title_abstract))\n",
    "full_records = df[~df.index.isin(no_title_abstract.index)]\n",
    "\n",
    "print(full_records['screening1'].value_counts())\n",
    "print(full_records.groupby('screening1')['screening2'].value_counts())\n",
    "full_records.to_pickle(\"preprocessed_articles_filtered.pkl\")\n",
    "full_records.to_excel(\"preprocessed_articles_filtered.xlsx\")\n"
   ]
  },
  {
   "cell_type": "code",
   "execution_count": 23,
   "id": "2e689a4c7d7df475",
   "metadata": {
    "collapsed": false,
    "ExecuteTime": {
     "end_time": "2024-11-06T13:52:51.922602Z",
     "start_time": "2024-11-06T13:52:51.905089Z"
    }
   },
   "outputs": [
    {
     "data": {
      "text/plain": "                                                 record  \\\n0     All_incl_articles_20230630.enlEndNote1117Clini...   \n1     All_incl_articles_20230630.enlEndNote2217Osteo...   \n2     All_incl_articles_20230630.enlEndNote3317Obesi...   \n3     All_incl_articles_20230630.enlEndNote4417Unite...   \n4     All_incl_articles_20230630.enlEndNote5517Physi...   \n...                                                 ...   \n3152  All_incl_articles_20230630.enlEndNote272727271...   \n3153  All_incl_articles_20230630.enlEndNote272827281...   \n3165  All_incl_articles_20230630.enlEndNote454945491...   \n3889  All_incl_articles_20230630.enlEndNote338533851...   \n4245  All_incl_articles_20230630.enlEndNote369536951...   \n\n                            database source-app rec-number foreign-keys   key  \\\n0     All_incl_articles_20230630.enl    EndNote          1            1     1   \n1     All_incl_articles_20230630.enl    EndNote          2            2     2   \n2     All_incl_articles_20230630.enl    EndNote          3            3     3   \n3     All_incl_articles_20230630.enl    EndNote          4            4     4   \n4     All_incl_articles_20230630.enl    EndNote          5            5     5   \n...                              ...        ...        ...          ...   ...   \n3152  All_incl_articles_20230630.enl    EndNote       2727         2727  2727   \n3153  All_incl_articles_20230630.enl    EndNote       2728         2728  2728   \n3165  All_incl_articles_20230630.enl    EndNote       4549         4549  4549   \n3889  All_incl_articles_20230630.enl    EndNote       3385         3385  3385   \n4245  All_incl_articles_20230630.enl    EndNote       3695         3695  3695   \n\n     ref-type                                       contributors  \\\n0          17                                                      \n1          17                                                      \n2          17                                                      \n3          17                                                      \n4          17                                                      \n...       ...                                                ...   \n3152       17  Østerås, N.Hagen, K. B.Grotle, M.Sand-Svartrud...   \n3153       17  Østerås, N.van Bodegom-Vos, L.Dziedzic, K.Mose...   \n3165       17  Õunpuu, SylviaPierz, KristanRethlefsen, Susan ...   \n3889       17            Śliwiński, Z.Frączek, E.Starczyńska, M.   \n4245       17        Ünal, M.Evci, K. E.Kocatürk, M.Algun, Z. C.   \n\n                                                 titles  \\\n0     Clinical practice guidelines for the diagnosis...   \n1     Osteoporosis prevention, diagnosis, and therap...   \n2     Obesity: preventing and managing the global ep...   \n3     United Kingdom back pain exercise and manipula...   \n4     Physiotherapy rehabilitation after total knee ...   \n...                                                 ...   \n3152  Exercise programme with telephone follow-up fo...   \n3153  Implementing international osteoarthritis trea...   \n3165  Cost savings for single event multilevel surge...   \n3889  Role of the physiotherapist in the orthopaedic...   \n4245  Investigating the effects of myofascial induct...   \n\n                                                  title  ... related-urls  \\\n0     Clinical practice guidelines for the diagnosis...  ...          NaN   \n1       Osteoporosis prevention, diagnosis, and therapy  ...          NaN   \n2     Obesity: preventing and managing the global ep...  ...          NaN   \n3     United Kingdom back pain exercise and manipula...  ...          NaN   \n4     Physiotherapy rehabilitation after total knee ...  ...          NaN   \n...                                                 ...  ...          ...   \n3152  Exercise programme with telephone follow-up fo...  ...          NaN   \n3153  Implementing international osteoarthritis trea...  ...          NaN   \n3165  Cost savings for single event multilevel surge...  ...          NaN   \n3889  Role of the physiotherapist in the orthopaedic...  ...          NaN   \n4245  Investigating the effects of myofascial induct...  ...          NaN   \n\n      url custom6 orig-pub publisher secondary-authors translated-title  \\\n0     NaN     NaN      NaN       NaN               NaN              NaN   \n1     NaN     NaN      NaN       NaN               NaN              NaN   \n2     NaN     NaN      NaN       NaN               NaN              NaN   \n3     NaN     NaN      NaN       NaN               NaN              NaN   \n4     NaN     NaN      NaN       NaN               NaN              NaN   \n...   ...     ...      ...       ...               ...              ...   \n3152  NaN     NaN      NaN       NaN               NaN              NaN   \n3153  NaN     NaN      NaN       NaN               NaN              NaN   \n3165  NaN     NaN      NaN       NaN               NaN              NaN   \n3889  NaN     NaN      NaN       NaN               NaN              NaN   \n4245  NaN     NaN      NaN       NaN               NaN              NaN   \n\n                                    concatenated_fields screening1 screening2  \n0      Clinical practice guidelines for the diagnosi...      False      False  \n1      Osteoporosis prevention, diagnosis, and thera...      False      False  \n2      Obesity: preventing and managing the global e...      False      False  \n3      United Kingdom back pain exercise and manipul...      False      False  \n4      Physiotherapy rehabilitation after total knee...      False      False  \n...                                                 ...        ...        ...  \n3152  Østerås, N.Hagen, K. B.Grotle, M.Sand-Svartrud...      False      False  \n3153  Østerås, N.van Bodegom-Vos, L.Dziedzic, K.Mose...      False      False  \n3165  Õunpuu, SylviaPierz, KristanRethlefsen, Susan ...      False      False  \n3889  Śliwiński, Z.Frączek, E.Starczyńska, M. Role o...      False      False  \n4245  Ünal, M.Evci, K. E.Kocatürk, M.Algun, Z. C. In...      False      False  \n\n[4501 rows x 47 columns]",
      "text/html": "<div>\n<style scoped>\n    .dataframe tbody tr th:only-of-type {\n        vertical-align: middle;\n    }\n\n    .dataframe tbody tr th {\n        vertical-align: top;\n    }\n\n    .dataframe thead th {\n        text-align: right;\n    }\n</style>\n<table border=\"1\" class=\"dataframe\">\n  <thead>\n    <tr style=\"text-align: right;\">\n      <th></th>\n      <th>record</th>\n      <th>database</th>\n      <th>source-app</th>\n      <th>rec-number</th>\n      <th>foreign-keys</th>\n      <th>key</th>\n      <th>ref-type</th>\n      <th>contributors</th>\n      <th>titles</th>\n      <th>title</th>\n      <th>...</th>\n      <th>related-urls</th>\n      <th>url</th>\n      <th>custom6</th>\n      <th>orig-pub</th>\n      <th>publisher</th>\n      <th>secondary-authors</th>\n      <th>translated-title</th>\n      <th>concatenated_fields</th>\n      <th>screening1</th>\n      <th>screening2</th>\n    </tr>\n  </thead>\n  <tbody>\n    <tr>\n      <th>0</th>\n      <td>All_incl_articles_20230630.enlEndNote1117Clini...</td>\n      <td>All_incl_articles_20230630.enl</td>\n      <td>EndNote</td>\n      <td>1</td>\n      <td>1</td>\n      <td>1</td>\n      <td>17</td>\n      <td></td>\n      <td>Clinical practice guidelines for the diagnosis...</td>\n      <td>Clinical practice guidelines for the diagnosis...</td>\n      <td>...</td>\n      <td>NaN</td>\n      <td>NaN</td>\n      <td>NaN</td>\n      <td>NaN</td>\n      <td>NaN</td>\n      <td>NaN</td>\n      <td>NaN</td>\n      <td>Clinical practice guidelines for the diagnosi...</td>\n      <td>False</td>\n      <td>False</td>\n    </tr>\n    <tr>\n      <th>1</th>\n      <td>All_incl_articles_20230630.enlEndNote2217Osteo...</td>\n      <td>All_incl_articles_20230630.enl</td>\n      <td>EndNote</td>\n      <td>2</td>\n      <td>2</td>\n      <td>2</td>\n      <td>17</td>\n      <td></td>\n      <td>Osteoporosis prevention, diagnosis, and therap...</td>\n      <td>Osteoporosis prevention, diagnosis, and therapy</td>\n      <td>...</td>\n      <td>NaN</td>\n      <td>NaN</td>\n      <td>NaN</td>\n      <td>NaN</td>\n      <td>NaN</td>\n      <td>NaN</td>\n      <td>NaN</td>\n      <td>Osteoporosis prevention, diagnosis, and thera...</td>\n      <td>False</td>\n      <td>False</td>\n    </tr>\n    <tr>\n      <th>2</th>\n      <td>All_incl_articles_20230630.enlEndNote3317Obesi...</td>\n      <td>All_incl_articles_20230630.enl</td>\n      <td>EndNote</td>\n      <td>3</td>\n      <td>3</td>\n      <td>3</td>\n      <td>17</td>\n      <td></td>\n      <td>Obesity: preventing and managing the global ep...</td>\n      <td>Obesity: preventing and managing the global ep...</td>\n      <td>...</td>\n      <td>NaN</td>\n      <td>NaN</td>\n      <td>NaN</td>\n      <td>NaN</td>\n      <td>NaN</td>\n      <td>NaN</td>\n      <td>NaN</td>\n      <td>Obesity: preventing and managing the global e...</td>\n      <td>False</td>\n      <td>False</td>\n    </tr>\n    <tr>\n      <th>3</th>\n      <td>All_incl_articles_20230630.enlEndNote4417Unite...</td>\n      <td>All_incl_articles_20230630.enl</td>\n      <td>EndNote</td>\n      <td>4</td>\n      <td>4</td>\n      <td>4</td>\n      <td>17</td>\n      <td></td>\n      <td>United Kingdom back pain exercise and manipula...</td>\n      <td>United Kingdom back pain exercise and manipula...</td>\n      <td>...</td>\n      <td>NaN</td>\n      <td>NaN</td>\n      <td>NaN</td>\n      <td>NaN</td>\n      <td>NaN</td>\n      <td>NaN</td>\n      <td>NaN</td>\n      <td>United Kingdom back pain exercise and manipul...</td>\n      <td>False</td>\n      <td>False</td>\n    </tr>\n    <tr>\n      <th>4</th>\n      <td>All_incl_articles_20230630.enlEndNote5517Physi...</td>\n      <td>All_incl_articles_20230630.enl</td>\n      <td>EndNote</td>\n      <td>5</td>\n      <td>5</td>\n      <td>5</td>\n      <td>17</td>\n      <td></td>\n      <td>Physiotherapy rehabilitation after total knee ...</td>\n      <td>Physiotherapy rehabilitation after total knee ...</td>\n      <td>...</td>\n      <td>NaN</td>\n      <td>NaN</td>\n      <td>NaN</td>\n      <td>NaN</td>\n      <td>NaN</td>\n      <td>NaN</td>\n      <td>NaN</td>\n      <td>Physiotherapy rehabilitation after total knee...</td>\n      <td>False</td>\n      <td>False</td>\n    </tr>\n    <tr>\n      <th>...</th>\n      <td>...</td>\n      <td>...</td>\n      <td>...</td>\n      <td>...</td>\n      <td>...</td>\n      <td>...</td>\n      <td>...</td>\n      <td>...</td>\n      <td>...</td>\n      <td>...</td>\n      <td>...</td>\n      <td>...</td>\n      <td>...</td>\n      <td>...</td>\n      <td>...</td>\n      <td>...</td>\n      <td>...</td>\n      <td>...</td>\n      <td>...</td>\n      <td>...</td>\n      <td>...</td>\n    </tr>\n    <tr>\n      <th>3152</th>\n      <td>All_incl_articles_20230630.enlEndNote272727271...</td>\n      <td>All_incl_articles_20230630.enl</td>\n      <td>EndNote</td>\n      <td>2727</td>\n      <td>2727</td>\n      <td>2727</td>\n      <td>17</td>\n      <td>Østerås, N.Hagen, K. B.Grotle, M.Sand-Svartrud...</td>\n      <td>Exercise programme with telephone follow-up fo...</td>\n      <td>Exercise programme with telephone follow-up fo...</td>\n      <td>...</td>\n      <td>NaN</td>\n      <td>NaN</td>\n      <td>NaN</td>\n      <td>NaN</td>\n      <td>NaN</td>\n      <td>NaN</td>\n      <td>NaN</td>\n      <td>Østerås, N.Hagen, K. B.Grotle, M.Sand-Svartrud...</td>\n      <td>False</td>\n      <td>False</td>\n    </tr>\n    <tr>\n      <th>3153</th>\n      <td>All_incl_articles_20230630.enlEndNote272827281...</td>\n      <td>All_incl_articles_20230630.enl</td>\n      <td>EndNote</td>\n      <td>2728</td>\n      <td>2728</td>\n      <td>2728</td>\n      <td>17</td>\n      <td>Østerås, N.van Bodegom-Vos, L.Dziedzic, K.Mose...</td>\n      <td>Implementing international osteoarthritis trea...</td>\n      <td>Implementing international osteoarthritis trea...</td>\n      <td>...</td>\n      <td>NaN</td>\n      <td>NaN</td>\n      <td>NaN</td>\n      <td>NaN</td>\n      <td>NaN</td>\n      <td>NaN</td>\n      <td>NaN</td>\n      <td>Østerås, N.van Bodegom-Vos, L.Dziedzic, K.Mose...</td>\n      <td>False</td>\n      <td>False</td>\n    </tr>\n    <tr>\n      <th>3165</th>\n      <td>All_incl_articles_20230630.enlEndNote454945491...</td>\n      <td>All_incl_articles_20230630.enl</td>\n      <td>EndNote</td>\n      <td>4549</td>\n      <td>4549</td>\n      <td>4549</td>\n      <td>17</td>\n      <td>Õunpuu, SylviaPierz, KristanRethlefsen, Susan ...</td>\n      <td>Cost savings for single event multilevel surge...</td>\n      <td>Cost savings for single event multilevel surge...</td>\n      <td>...</td>\n      <td>NaN</td>\n      <td>NaN</td>\n      <td>NaN</td>\n      <td>NaN</td>\n      <td>NaN</td>\n      <td>NaN</td>\n      <td>NaN</td>\n      <td>Õunpuu, SylviaPierz, KristanRethlefsen, Susan ...</td>\n      <td>False</td>\n      <td>False</td>\n    </tr>\n    <tr>\n      <th>3889</th>\n      <td>All_incl_articles_20230630.enlEndNote338533851...</td>\n      <td>All_incl_articles_20230630.enl</td>\n      <td>EndNote</td>\n      <td>3385</td>\n      <td>3385</td>\n      <td>3385</td>\n      <td>17</td>\n      <td>Śliwiński, Z.Frączek, E.Starczyńska, M.</td>\n      <td>Role of the physiotherapist in the orthopaedic...</td>\n      <td>Role of the physiotherapist in the orthopaedic...</td>\n      <td>...</td>\n      <td>NaN</td>\n      <td>NaN</td>\n      <td>NaN</td>\n      <td>NaN</td>\n      <td>NaN</td>\n      <td>NaN</td>\n      <td>NaN</td>\n      <td>Śliwiński, Z.Frączek, E.Starczyńska, M. Role o...</td>\n      <td>False</td>\n      <td>False</td>\n    </tr>\n    <tr>\n      <th>4245</th>\n      <td>All_incl_articles_20230630.enlEndNote369536951...</td>\n      <td>All_incl_articles_20230630.enl</td>\n      <td>EndNote</td>\n      <td>3695</td>\n      <td>3695</td>\n      <td>3695</td>\n      <td>17</td>\n      <td>Ünal, M.Evci, K. E.Kocatürk, M.Algun, Z. C.</td>\n      <td>Investigating the effects of myofascial induct...</td>\n      <td>Investigating the effects of myofascial induct...</td>\n      <td>...</td>\n      <td>NaN</td>\n      <td>NaN</td>\n      <td>NaN</td>\n      <td>NaN</td>\n      <td>NaN</td>\n      <td>NaN</td>\n      <td>NaN</td>\n      <td>Ünal, M.Evci, K. E.Kocatürk, M.Algun, Z. C. In...</td>\n      <td>False</td>\n      <td>False</td>\n    </tr>\n  </tbody>\n</table>\n<p>4501 rows × 47 columns</p>\n</div>"
     },
     "execution_count": 23,
     "metadata": {},
     "output_type": "execute_result"
    }
   ],
   "source": [
    "full_records"
   ]
  }
 ],
 "metadata": {
  "kernelspec": {
   "display_name": "Python 3 (ipykernel)",
   "language": "python",
   "name": "python3"
  },
  "language_info": {
   "codemirror_mode": {
    "name": "ipython",
    "version": 3
   },
   "file_extension": ".py",
   "mimetype": "text/x-python",
   "name": "python",
   "nbconvert_exporter": "python",
   "pygments_lexer": "ipython3",
   "version": "3.11.9"
  }
 },
 "nbformat": 4,
 "nbformat_minor": 5
}
